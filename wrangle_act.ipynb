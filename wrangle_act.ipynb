{
 "cells": [
  {
   "cell_type": "code",
   "execution_count": 1,
   "id": "3f34b5f4",
   "metadata": {},
   "outputs": [],
   "source": [
    "import pandas as pd\n",
    "import numpy as np\n",
    "import requests as req\n",
    "import seaborn as sns\n",
    "import matplotlib.pyplot as plt\n",
    "%matplotlib inline\n",
    "sns.set_style('whitegrid')\n",
    "import warnings\n",
    "warnings.filterwarnings('ignore')"
   ]
  },
  {
   "cell_type": "code",
   "execution_count": 2,
   "id": "a99c847d",
   "metadata": {},
   "outputs": [],
   "source": [
    "import tweepy\n",
    "from tweepy import OAuthHandler\n",
    "import json\n",
    "from timeit import default_timer as timer"
   ]
  },
  {
   "cell_type": "markdown",
   "id": "8f8c862e",
   "metadata": {},
   "source": [
    "## Dataset 1 (twitter_archive_enhanced.csv)"
   ]
  },
  {
   "cell_type": "code",
   "execution_count": 3,
   "id": "c36557c2",
   "metadata": {
    "scrolled": false
   },
   "outputs": [
    {
     "data": {
      "text/html": [
       "<div>\n",
       "<style scoped>\n",
       "    .dataframe tbody tr th:only-of-type {\n",
       "        vertical-align: middle;\n",
       "    }\n",
       "\n",
       "    .dataframe tbody tr th {\n",
       "        vertical-align: top;\n",
       "    }\n",
       "\n",
       "    .dataframe thead th {\n",
       "        text-align: right;\n",
       "    }\n",
       "</style>\n",
       "<table border=\"1\" class=\"dataframe\">\n",
       "  <thead>\n",
       "    <tr style=\"text-align: right;\">\n",
       "      <th></th>\n",
       "      <th>tweet_id</th>\n",
       "      <th>in_reply_to_status_id</th>\n",
       "      <th>in_reply_to_user_id</th>\n",
       "      <th>timestamp</th>\n",
       "      <th>source</th>\n",
       "      <th>text</th>\n",
       "      <th>retweeted_status_id</th>\n",
       "      <th>retweeted_status_user_id</th>\n",
       "      <th>retweeted_status_timestamp</th>\n",
       "      <th>expanded_urls</th>\n",
       "      <th>rating_numerator</th>\n",
       "      <th>rating_denominator</th>\n",
       "      <th>name</th>\n",
       "      <th>doggo</th>\n",
       "      <th>floofer</th>\n",
       "      <th>pupper</th>\n",
       "      <th>puppo</th>\n",
       "    </tr>\n",
       "  </thead>\n",
       "  <tbody>\n",
       "    <tr>\n",
       "      <th>0</th>\n",
       "      <td>892420643555336193</td>\n",
       "      <td>NaN</td>\n",
       "      <td>NaN</td>\n",
       "      <td>2017-08-01 16:23:56 +0000</td>\n",
       "      <td>&lt;a href=\"http://twitter.com/download/iphone\" r...</td>\n",
       "      <td>This is Phineas. He's a mystical boy. Only eve...</td>\n",
       "      <td>NaN</td>\n",
       "      <td>NaN</td>\n",
       "      <td>NaN</td>\n",
       "      <td>https://twitter.com/dog_rates/status/892420643...</td>\n",
       "      <td>13</td>\n",
       "      <td>10</td>\n",
       "      <td>Phineas</td>\n",
       "      <td>None</td>\n",
       "      <td>None</td>\n",
       "      <td>None</td>\n",
       "      <td>None</td>\n",
       "    </tr>\n",
       "    <tr>\n",
       "      <th>1</th>\n",
       "      <td>892177421306343426</td>\n",
       "      <td>NaN</td>\n",
       "      <td>NaN</td>\n",
       "      <td>2017-08-01 00:17:27 +0000</td>\n",
       "      <td>&lt;a href=\"http://twitter.com/download/iphone\" r...</td>\n",
       "      <td>This is Tilly. She's just checking pup on you....</td>\n",
       "      <td>NaN</td>\n",
       "      <td>NaN</td>\n",
       "      <td>NaN</td>\n",
       "      <td>https://twitter.com/dog_rates/status/892177421...</td>\n",
       "      <td>13</td>\n",
       "      <td>10</td>\n",
       "      <td>Tilly</td>\n",
       "      <td>None</td>\n",
       "      <td>None</td>\n",
       "      <td>None</td>\n",
       "      <td>None</td>\n",
       "    </tr>\n",
       "    <tr>\n",
       "      <th>2</th>\n",
       "      <td>891815181378084864</td>\n",
       "      <td>NaN</td>\n",
       "      <td>NaN</td>\n",
       "      <td>2017-07-31 00:18:03 +0000</td>\n",
       "      <td>&lt;a href=\"http://twitter.com/download/iphone\" r...</td>\n",
       "      <td>This is Archie. He is a rare Norwegian Pouncin...</td>\n",
       "      <td>NaN</td>\n",
       "      <td>NaN</td>\n",
       "      <td>NaN</td>\n",
       "      <td>https://twitter.com/dog_rates/status/891815181...</td>\n",
       "      <td>12</td>\n",
       "      <td>10</td>\n",
       "      <td>Archie</td>\n",
       "      <td>None</td>\n",
       "      <td>None</td>\n",
       "      <td>None</td>\n",
       "      <td>None</td>\n",
       "    </tr>\n",
       "    <tr>\n",
       "      <th>3</th>\n",
       "      <td>891689557279858688</td>\n",
       "      <td>NaN</td>\n",
       "      <td>NaN</td>\n",
       "      <td>2017-07-30 15:58:51 +0000</td>\n",
       "      <td>&lt;a href=\"http://twitter.com/download/iphone\" r...</td>\n",
       "      <td>This is Darla. She commenced a snooze mid meal...</td>\n",
       "      <td>NaN</td>\n",
       "      <td>NaN</td>\n",
       "      <td>NaN</td>\n",
       "      <td>https://twitter.com/dog_rates/status/891689557...</td>\n",
       "      <td>13</td>\n",
       "      <td>10</td>\n",
       "      <td>Darla</td>\n",
       "      <td>None</td>\n",
       "      <td>None</td>\n",
       "      <td>None</td>\n",
       "      <td>None</td>\n",
       "    </tr>\n",
       "    <tr>\n",
       "      <th>4</th>\n",
       "      <td>891327558926688256</td>\n",
       "      <td>NaN</td>\n",
       "      <td>NaN</td>\n",
       "      <td>2017-07-29 16:00:24 +0000</td>\n",
       "      <td>&lt;a href=\"http://twitter.com/download/iphone\" r...</td>\n",
       "      <td>This is Franklin. He would like you to stop ca...</td>\n",
       "      <td>NaN</td>\n",
       "      <td>NaN</td>\n",
       "      <td>NaN</td>\n",
       "      <td>https://twitter.com/dog_rates/status/891327558...</td>\n",
       "      <td>12</td>\n",
       "      <td>10</td>\n",
       "      <td>Franklin</td>\n",
       "      <td>None</td>\n",
       "      <td>None</td>\n",
       "      <td>None</td>\n",
       "      <td>None</td>\n",
       "    </tr>\n",
       "  </tbody>\n",
       "</table>\n",
       "</div>"
      ],
      "text/plain": [
       "             tweet_id  in_reply_to_status_id  in_reply_to_user_id  \\\n",
       "0  892420643555336193                    NaN                  NaN   \n",
       "1  892177421306343426                    NaN                  NaN   \n",
       "2  891815181378084864                    NaN                  NaN   \n",
       "3  891689557279858688                    NaN                  NaN   \n",
       "4  891327558926688256                    NaN                  NaN   \n",
       "\n",
       "                   timestamp  \\\n",
       "0  2017-08-01 16:23:56 +0000   \n",
       "1  2017-08-01 00:17:27 +0000   \n",
       "2  2017-07-31 00:18:03 +0000   \n",
       "3  2017-07-30 15:58:51 +0000   \n",
       "4  2017-07-29 16:00:24 +0000   \n",
       "\n",
       "                                              source  \\\n",
       "0  <a href=\"http://twitter.com/download/iphone\" r...   \n",
       "1  <a href=\"http://twitter.com/download/iphone\" r...   \n",
       "2  <a href=\"http://twitter.com/download/iphone\" r...   \n",
       "3  <a href=\"http://twitter.com/download/iphone\" r...   \n",
       "4  <a href=\"http://twitter.com/download/iphone\" r...   \n",
       "\n",
       "                                                text  retweeted_status_id  \\\n",
       "0  This is Phineas. He's a mystical boy. Only eve...                  NaN   \n",
       "1  This is Tilly. She's just checking pup on you....                  NaN   \n",
       "2  This is Archie. He is a rare Norwegian Pouncin...                  NaN   \n",
       "3  This is Darla. She commenced a snooze mid meal...                  NaN   \n",
       "4  This is Franklin. He would like you to stop ca...                  NaN   \n",
       "\n",
       "   retweeted_status_user_id retweeted_status_timestamp  \\\n",
       "0                       NaN                        NaN   \n",
       "1                       NaN                        NaN   \n",
       "2                       NaN                        NaN   \n",
       "3                       NaN                        NaN   \n",
       "4                       NaN                        NaN   \n",
       "\n",
       "                                       expanded_urls  rating_numerator  \\\n",
       "0  https://twitter.com/dog_rates/status/892420643...                13   \n",
       "1  https://twitter.com/dog_rates/status/892177421...                13   \n",
       "2  https://twitter.com/dog_rates/status/891815181...                12   \n",
       "3  https://twitter.com/dog_rates/status/891689557...                13   \n",
       "4  https://twitter.com/dog_rates/status/891327558...                12   \n",
       "\n",
       "   rating_denominator      name doggo floofer pupper puppo  \n",
       "0                  10   Phineas  None    None   None  None  \n",
       "1                  10     Tilly  None    None   None  None  \n",
       "2                  10    Archie  None    None   None  None  \n",
       "3                  10     Darla  None    None   None  None  \n",
       "4                  10  Franklin  None    None   None  None  "
      ]
     },
     "execution_count": 3,
     "metadata": {},
     "output_type": "execute_result"
    }
   ],
   "source": [
    "df_twe_1 = pd.read_csv('twitter-archive-enhanced.csv')\n",
    "df_twe_1.head()"
   ]
  },
  {
   "cell_type": "markdown",
   "id": "12773db3",
   "metadata": {},
   "source": [
    "## Dataset 2 (image_predictions.tsv)"
   ]
  },
  {
   "cell_type": "code",
   "execution_count": 4,
   "id": "93a8dd9a",
   "metadata": {},
   "outputs": [],
   "source": [
    "#url = 'https://d17h27t6h515a5.cloudfront.net/topher/2017/August/599fd2ad_image-predictions/image-predictions.tsv'\n",
    "#res = req.get(url)\n",
    "#with open('image_prediction.tsv','wb') as twe_filer:\n",
    "#    twe_filer.write(res.content)"
   ]
  },
  {
   "cell_type": "code",
   "execution_count": 5,
   "id": "a1790aab",
   "metadata": {},
   "outputs": [],
   "source": [
    "df_twe_2 = pd.read_csv('image_prediction.tsv', sep = '\\t')"
   ]
  },
  {
   "cell_type": "code",
   "execution_count": 6,
   "id": "d2a7bb0c",
   "metadata": {
    "scrolled": true
   },
   "outputs": [
    {
     "data": {
      "text/html": [
       "<div>\n",
       "<style scoped>\n",
       "    .dataframe tbody tr th:only-of-type {\n",
       "        vertical-align: middle;\n",
       "    }\n",
       "\n",
       "    .dataframe tbody tr th {\n",
       "        vertical-align: top;\n",
       "    }\n",
       "\n",
       "    .dataframe thead th {\n",
       "        text-align: right;\n",
       "    }\n",
       "</style>\n",
       "<table border=\"1\" class=\"dataframe\">\n",
       "  <thead>\n",
       "    <tr style=\"text-align: right;\">\n",
       "      <th></th>\n",
       "      <th>tweet_id</th>\n",
       "      <th>jpg_url</th>\n",
       "      <th>img_num</th>\n",
       "      <th>p1</th>\n",
       "      <th>p1_conf</th>\n",
       "      <th>p1_dog</th>\n",
       "      <th>p2</th>\n",
       "      <th>p2_conf</th>\n",
       "      <th>p2_dog</th>\n",
       "      <th>p3</th>\n",
       "      <th>p3_conf</th>\n",
       "      <th>p3_dog</th>\n",
       "    </tr>\n",
       "  </thead>\n",
       "  <tbody>\n",
       "    <tr>\n",
       "      <th>0</th>\n",
       "      <td>666020888022790149</td>\n",
       "      <td>https://pbs.twimg.com/media/CT4udn0WwAA0aMy.jpg</td>\n",
       "      <td>1</td>\n",
       "      <td>Welsh_springer_spaniel</td>\n",
       "      <td>0.465074</td>\n",
       "      <td>True</td>\n",
       "      <td>collie</td>\n",
       "      <td>0.156665</td>\n",
       "      <td>True</td>\n",
       "      <td>Shetland_sheepdog</td>\n",
       "      <td>0.061428</td>\n",
       "      <td>True</td>\n",
       "    </tr>\n",
       "    <tr>\n",
       "      <th>1</th>\n",
       "      <td>666029285002620928</td>\n",
       "      <td>https://pbs.twimg.com/media/CT42GRgUYAA5iDo.jpg</td>\n",
       "      <td>1</td>\n",
       "      <td>redbone</td>\n",
       "      <td>0.506826</td>\n",
       "      <td>True</td>\n",
       "      <td>miniature_pinscher</td>\n",
       "      <td>0.074192</td>\n",
       "      <td>True</td>\n",
       "      <td>Rhodesian_ridgeback</td>\n",
       "      <td>0.072010</td>\n",
       "      <td>True</td>\n",
       "    </tr>\n",
       "    <tr>\n",
       "      <th>2</th>\n",
       "      <td>666033412701032449</td>\n",
       "      <td>https://pbs.twimg.com/media/CT4521TWwAEvMyu.jpg</td>\n",
       "      <td>1</td>\n",
       "      <td>German_shepherd</td>\n",
       "      <td>0.596461</td>\n",
       "      <td>True</td>\n",
       "      <td>malinois</td>\n",
       "      <td>0.138584</td>\n",
       "      <td>True</td>\n",
       "      <td>bloodhound</td>\n",
       "      <td>0.116197</td>\n",
       "      <td>True</td>\n",
       "    </tr>\n",
       "    <tr>\n",
       "      <th>3</th>\n",
       "      <td>666044226329800704</td>\n",
       "      <td>https://pbs.twimg.com/media/CT5Dr8HUEAA-lEu.jpg</td>\n",
       "      <td>1</td>\n",
       "      <td>Rhodesian_ridgeback</td>\n",
       "      <td>0.408143</td>\n",
       "      <td>True</td>\n",
       "      <td>redbone</td>\n",
       "      <td>0.360687</td>\n",
       "      <td>True</td>\n",
       "      <td>miniature_pinscher</td>\n",
       "      <td>0.222752</td>\n",
       "      <td>True</td>\n",
       "    </tr>\n",
       "    <tr>\n",
       "      <th>4</th>\n",
       "      <td>666049248165822465</td>\n",
       "      <td>https://pbs.twimg.com/media/CT5IQmsXIAAKY4A.jpg</td>\n",
       "      <td>1</td>\n",
       "      <td>miniature_pinscher</td>\n",
       "      <td>0.560311</td>\n",
       "      <td>True</td>\n",
       "      <td>Rottweiler</td>\n",
       "      <td>0.243682</td>\n",
       "      <td>True</td>\n",
       "      <td>Doberman</td>\n",
       "      <td>0.154629</td>\n",
       "      <td>True</td>\n",
       "    </tr>\n",
       "  </tbody>\n",
       "</table>\n",
       "</div>"
      ],
      "text/plain": [
       "             tweet_id                                          jpg_url  \\\n",
       "0  666020888022790149  https://pbs.twimg.com/media/CT4udn0WwAA0aMy.jpg   \n",
       "1  666029285002620928  https://pbs.twimg.com/media/CT42GRgUYAA5iDo.jpg   \n",
       "2  666033412701032449  https://pbs.twimg.com/media/CT4521TWwAEvMyu.jpg   \n",
       "3  666044226329800704  https://pbs.twimg.com/media/CT5Dr8HUEAA-lEu.jpg   \n",
       "4  666049248165822465  https://pbs.twimg.com/media/CT5IQmsXIAAKY4A.jpg   \n",
       "\n",
       "   img_num                      p1   p1_conf  p1_dog                  p2  \\\n",
       "0        1  Welsh_springer_spaniel  0.465074    True              collie   \n",
       "1        1                 redbone  0.506826    True  miniature_pinscher   \n",
       "2        1         German_shepherd  0.596461    True            malinois   \n",
       "3        1     Rhodesian_ridgeback  0.408143    True             redbone   \n",
       "4        1      miniature_pinscher  0.560311    True          Rottweiler   \n",
       "\n",
       "    p2_conf  p2_dog                   p3   p3_conf  p3_dog  \n",
       "0  0.156665    True    Shetland_sheepdog  0.061428    True  \n",
       "1  0.074192    True  Rhodesian_ridgeback  0.072010    True  \n",
       "2  0.138584    True           bloodhound  0.116197    True  \n",
       "3  0.360687    True   miniature_pinscher  0.222752    True  \n",
       "4  0.243682    True             Doberman  0.154629    True  "
      ]
     },
     "execution_count": 6,
     "metadata": {},
     "output_type": "execute_result"
    }
   ],
   "source": [
    "df_twe_2.head()"
   ]
  },
  {
   "cell_type": "markdown",
   "id": "72e9827e",
   "metadata": {},
   "source": [
    "## Dataset 3 (tweet_json.txt)"
   ]
  },
  {
   "cell_type": "markdown",
   "id": "136bd19c",
   "metadata": {},
   "source": [
    "#### Below is the code to query the additional data from twitter api,i didnt make use of this snippet of code because i wasnt granted twitter developer priviledges"
   ]
  },
  {
   "cell_type": "code",
   "execution_count": 7,
   "id": "14b8821b",
   "metadata": {},
   "outputs": [],
   "source": [
    "# Query Twitter API for each tweet in the Twitter archive and save JSON in a text file\n",
    "# These are hidden to comply with Twitter's API terms and conditions\n",
    "#consumer_key = 'HIDDEN'\n",
    "#consumer_secret = 'HIDDEN'\n",
    "#access_token = 'HIDDEN'\n",
    "#access_secret = 'HIDDEN'\n",
    "\n",
    "#auth = OAuthHandler(consumer_key, consumer_secret)\n",
    "#auth.set_access_token(access_token, access_secret)\n",
    "\n",
    "#api = tweepy.API(auth, wait_on_rate_limit=True)\n",
    "\n",
    "# NOTE TO STUDENT WITH MOBILE VERIFICATION ISSUES:\n",
    "# df_1 is a DataFrame with the twitter_archive_enhanced.csv file. You may have to\n",
    "# change line 17 to match the name of your DataFrame with twitter_archive_enhanced.csv\n",
    "# NOTE TO REVIEWER: this student had mobile verification issues so the following\n",
    "# Twitter API code was sent to this student from a Udacity instructor\n",
    "# Tweet IDs for which to gather additional data via Twitter's API\n",
    "#tweet_ids = df_1.tweet_id.values\n",
    "#len(tweet_ids)\n",
    "\n",
    "# Query Twitter's API for JSON data for each tweet ID in the Twitter archive\n",
    "#count = 0\n",
    "#fails_dict = {}\n",
    "#start = timer()\n",
    "# Save each tweet's returned JSON as a new line in a .txt file\n",
    "#with open('tweet_json.txt', 'w') as outfile:\n",
    "    # This loop will likely take 20-30 minutes to run because of Twitter's rate limit\n",
    "#    for tweet_id in tweet_ids:\n",
    "#        count += 1\n",
    "#        print(str(count) + \": \" + str(tweet_id))\n",
    "#        try:\n",
    "#            tweet = api.get_status(tweet_id, tweet_mode='extended')\n",
    "#            print(\"Success\")\n",
    "#            json.dump(tweet._json, outfile)\n",
    "#            outfile.write('\\n')\n",
    "#        except tweepy.TweepError as e:\n",
    "#            print(\"Fail\")\n",
    "#            fails_dict[tweet_id] = e\n",
    "#            pass\n",
    "#end = timer()\n",
    "#print(end - start)\n",
    "#print(fails_dict)"
   ]
  },
  {
   "cell_type": "code",
   "execution_count": 8,
   "id": "92a98349",
   "metadata": {},
   "outputs": [],
   "source": [
    "#i wasnt granted twitter developer priviedges so i downloaded the data from udacity's server as tweet_json.txt file\n",
    "Df = pd.read_json('tweet_json.txt', lines=True) #the file is read into a dataframe"
   ]
  },
  {
   "cell_type": "code",
   "execution_count": 9,
   "id": "8f80e5e4",
   "metadata": {},
   "outputs": [
    {
     "data": {
      "text/plain": [
       "Index(['created_at', 'id', 'id_str', 'full_text', 'truncated',\n",
       "       'display_text_range', 'entities', 'extended_entities', 'source',\n",
       "       'in_reply_to_status_id', 'in_reply_to_status_id_str',\n",
       "       'in_reply_to_user_id', 'in_reply_to_user_id_str',\n",
       "       'in_reply_to_screen_name', 'user', 'geo', 'coordinates', 'place',\n",
       "       'contributors', 'is_quote_status', 'retweet_count', 'favorite_count',\n",
       "       'favorited', 'retweeted', 'possibly_sensitive',\n",
       "       'possibly_sensitive_appealable', 'lang', 'retweeted_status',\n",
       "       'quoted_status_id', 'quoted_status_id_str', 'quoted_status'],\n",
       "      dtype='object')"
      ]
     },
     "execution_count": 9,
     "metadata": {},
     "output_type": "execute_result"
    }
   ],
   "source": [
    "Df.columns"
   ]
  },
  {
   "cell_type": "code",
   "execution_count": 10,
   "id": "ca1a930d",
   "metadata": {},
   "outputs": [],
   "source": [
    "df_twe_3 = Df[['id','retweet_count','favorite_count']]"
   ]
  },
  {
   "cell_type": "code",
   "execution_count": 11,
   "id": "b6d0ae39",
   "metadata": {
    "scrolled": true
   },
   "outputs": [
    {
     "data": {
      "text/html": [
       "<div>\n",
       "<style scoped>\n",
       "    .dataframe tbody tr th:only-of-type {\n",
       "        vertical-align: middle;\n",
       "    }\n",
       "\n",
       "    .dataframe tbody tr th {\n",
       "        vertical-align: top;\n",
       "    }\n",
       "\n",
       "    .dataframe thead th {\n",
       "        text-align: right;\n",
       "    }\n",
       "</style>\n",
       "<table border=\"1\" class=\"dataframe\">\n",
       "  <thead>\n",
       "    <tr style=\"text-align: right;\">\n",
       "      <th></th>\n",
       "      <th>id</th>\n",
       "      <th>retweet_count</th>\n",
       "      <th>favorite_count</th>\n",
       "    </tr>\n",
       "  </thead>\n",
       "  <tbody>\n",
       "    <tr>\n",
       "      <th>0</th>\n",
       "      <td>892420643555336193</td>\n",
       "      <td>8853</td>\n",
       "      <td>39467</td>\n",
       "    </tr>\n",
       "    <tr>\n",
       "      <th>1</th>\n",
       "      <td>892177421306343426</td>\n",
       "      <td>6514</td>\n",
       "      <td>33819</td>\n",
       "    </tr>\n",
       "    <tr>\n",
       "      <th>2</th>\n",
       "      <td>891815181378084864</td>\n",
       "      <td>4328</td>\n",
       "      <td>25461</td>\n",
       "    </tr>\n",
       "    <tr>\n",
       "      <th>3</th>\n",
       "      <td>891689557279858688</td>\n",
       "      <td>8964</td>\n",
       "      <td>42908</td>\n",
       "    </tr>\n",
       "    <tr>\n",
       "      <th>4</th>\n",
       "      <td>891327558926688256</td>\n",
       "      <td>9774</td>\n",
       "      <td>41048</td>\n",
       "    </tr>\n",
       "  </tbody>\n",
       "</table>\n",
       "</div>"
      ],
      "text/plain": [
       "                   id  retweet_count  favorite_count\n",
       "0  892420643555336193           8853           39467\n",
       "1  892177421306343426           6514           33819\n",
       "2  891815181378084864           4328           25461\n",
       "3  891689557279858688           8964           42908\n",
       "4  891327558926688256           9774           41048"
      ]
     },
     "execution_count": 11,
     "metadata": {},
     "output_type": "execute_result"
    }
   ],
   "source": [
    "df_twe_3.head()"
   ]
  },
  {
   "cell_type": "code",
   "execution_count": 13,
   "id": "e54b76b6",
   "metadata": {},
   "outputs": [
    {
     "name": "stdout",
     "output_type": "stream",
     "text": [
      "<class 'pandas.core.frame.DataFrame'>\n",
      "RangeIndex: 2356 entries, 0 to 2355\n",
      "Data columns (total 17 columns):\n",
      " #   Column                      Non-Null Count  Dtype  \n",
      "---  ------                      --------------  -----  \n",
      " 0   tweet_id                    2356 non-null   int64  \n",
      " 1   in_reply_to_status_id       78 non-null     float64\n",
      " 2   in_reply_to_user_id         78 non-null     float64\n",
      " 3   timestamp                   2356 non-null   object \n",
      " 4   source                      2356 non-null   object \n",
      " 5   text                        2356 non-null   object \n",
      " 6   retweeted_status_id         181 non-null    float64\n",
      " 7   retweeted_status_user_id    181 non-null    float64\n",
      " 8   retweeted_status_timestamp  181 non-null    object \n",
      " 9   expanded_urls               2297 non-null   object \n",
      " 10  rating_numerator            2356 non-null   int64  \n",
      " 11  rating_denominator          2356 non-null   int64  \n",
      " 12  name                        2356 non-null   object \n",
      " 13  doggo                       2356 non-null   object \n",
      " 14  floofer                     2356 non-null   object \n",
      " 15  pupper                      2356 non-null   object \n",
      " 16  puppo                       2356 non-null   object \n",
      "dtypes: float64(4), int64(3), object(10)\n",
      "memory usage: 313.0+ KB\n"
     ]
    }
   ],
   "source": [
    "df_twe_1.info()"
   ]
  },
  {
   "cell_type": "code",
   "execution_count": 14,
   "id": "732b3fb2",
   "metadata": {},
   "outputs": [
    {
     "data": {
      "text/plain": [
       "2356"
      ]
     },
     "execution_count": 14,
     "metadata": {},
     "output_type": "execute_result"
    }
   ],
   "source": [
    "len(df_twe_1.tweet_id.unique())"
   ]
  },
  {
   "cell_type": "code",
   "execution_count": 15,
   "id": "7e6cdecd",
   "metadata": {},
   "outputs": [
    {
     "data": {
      "text/plain": [
       "None          745\n",
       "a              55\n",
       "Charlie        12\n",
       "Cooper         11\n",
       "Lucy           11\n",
       "             ... \n",
       "Pip             1\n",
       "Scruffers       1\n",
       "Cheryl          1\n",
       "Alejandro       1\n",
       "Christoper      1\n",
       "Name: name, Length: 957, dtype: int64"
      ]
     },
     "execution_count": 15,
     "metadata": {},
     "output_type": "execute_result"
    }
   ],
   "source": [
    "df_twe_1.name.value_counts().sort_values(ascending=False)"
   ]
  },
  {
   "cell_type": "code",
   "execution_count": 16,
   "id": "f6106668",
   "metadata": {},
   "outputs": [
    {
     "data": {
      "text/html": [
       "<div>\n",
       "<style scoped>\n",
       "    .dataframe tbody tr th:only-of-type {\n",
       "        vertical-align: middle;\n",
       "    }\n",
       "\n",
       "    .dataframe tbody tr th {\n",
       "        vertical-align: top;\n",
       "    }\n",
       "\n",
       "    .dataframe thead th {\n",
       "        text-align: right;\n",
       "    }\n",
       "</style>\n",
       "<table border=\"1\" class=\"dataframe\">\n",
       "  <thead>\n",
       "    <tr style=\"text-align: right;\">\n",
       "      <th></th>\n",
       "      <th>tweet_id</th>\n",
       "      <th>in_reply_to_status_id</th>\n",
       "      <th>in_reply_to_user_id</th>\n",
       "      <th>timestamp</th>\n",
       "      <th>source</th>\n",
       "      <th>text</th>\n",
       "      <th>retweeted_status_id</th>\n",
       "      <th>retweeted_status_user_id</th>\n",
       "      <th>retweeted_status_timestamp</th>\n",
       "      <th>expanded_urls</th>\n",
       "      <th>rating_numerator</th>\n",
       "      <th>rating_denominator</th>\n",
       "      <th>name</th>\n",
       "      <th>doggo</th>\n",
       "      <th>floofer</th>\n",
       "      <th>pupper</th>\n",
       "      <th>puppo</th>\n",
       "    </tr>\n",
       "  </thead>\n",
       "  <tbody>\n",
       "    <tr>\n",
       "      <th>1554</th>\n",
       "      <td>688898160958271489</td>\n",
       "      <td>NaN</td>\n",
       "      <td>NaN</td>\n",
       "      <td>2016-01-18 01:38:15 +0000</td>\n",
       "      <td>&lt;a href=\"http://twitter.com/download/iphone\" r...</td>\n",
       "      <td>When you have a ton of work to do but then rem...</td>\n",
       "      <td>NaN</td>\n",
       "      <td>NaN</td>\n",
       "      <td>NaN</td>\n",
       "      <td>https://twitter.com/dog_rates/status/688898160...</td>\n",
       "      <td>10</td>\n",
       "      <td>10</td>\n",
       "      <td>None</td>\n",
       "      <td>None</td>\n",
       "      <td>None</td>\n",
       "      <td>None</td>\n",
       "      <td>None</td>\n",
       "    </tr>\n",
       "    <tr>\n",
       "      <th>1171</th>\n",
       "      <td>720415127506415616</td>\n",
       "      <td>NaN</td>\n",
       "      <td>NaN</td>\n",
       "      <td>2016-04-14 00:55:25 +0000</td>\n",
       "      <td>&lt;a href=\"http://twitter.com/download/iphone\" r...</td>\n",
       "      <td>Garden's coming in nice this year. 10/10 https...</td>\n",
       "      <td>NaN</td>\n",
       "      <td>NaN</td>\n",
       "      <td>NaN</td>\n",
       "      <td>https://twitter.com/dog_rates/status/720415127...</td>\n",
       "      <td>10</td>\n",
       "      <td>10</td>\n",
       "      <td>None</td>\n",
       "      <td>None</td>\n",
       "      <td>None</td>\n",
       "      <td>None</td>\n",
       "      <td>None</td>\n",
       "    </tr>\n",
       "    <tr>\n",
       "      <th>1813</th>\n",
       "      <td>676776431406465024</td>\n",
       "      <td>NaN</td>\n",
       "      <td>NaN</td>\n",
       "      <td>2015-12-15 14:50:49 +0000</td>\n",
       "      <td>&lt;a href=\"http://twitter.com/download/iphone\" r...</td>\n",
       "      <td>When someone yells \"cops!\" at a party and you ...</td>\n",
       "      <td>NaN</td>\n",
       "      <td>NaN</td>\n",
       "      <td>NaN</td>\n",
       "      <td>https://twitter.com/dog_rates/status/676776431...</td>\n",
       "      <td>10</td>\n",
       "      <td>10</td>\n",
       "      <td>None</td>\n",
       "      <td>None</td>\n",
       "      <td>None</td>\n",
       "      <td>None</td>\n",
       "      <td>None</td>\n",
       "    </tr>\n",
       "  </tbody>\n",
       "</table>\n",
       "</div>"
      ],
      "text/plain": [
       "                tweet_id  in_reply_to_status_id  in_reply_to_user_id  \\\n",
       "1554  688898160958271489                    NaN                  NaN   \n",
       "1171  720415127506415616                    NaN                  NaN   \n",
       "1813  676776431406465024                    NaN                  NaN   \n",
       "\n",
       "                      timestamp  \\\n",
       "1554  2016-01-18 01:38:15 +0000   \n",
       "1171  2016-04-14 00:55:25 +0000   \n",
       "1813  2015-12-15 14:50:49 +0000   \n",
       "\n",
       "                                                 source  \\\n",
       "1554  <a href=\"http://twitter.com/download/iphone\" r...   \n",
       "1171  <a href=\"http://twitter.com/download/iphone\" r...   \n",
       "1813  <a href=\"http://twitter.com/download/iphone\" r...   \n",
       "\n",
       "                                                   text  retweeted_status_id  \\\n",
       "1554  When you have a ton of work to do but then rem...                  NaN   \n",
       "1171  Garden's coming in nice this year. 10/10 https...                  NaN   \n",
       "1813  When someone yells \"cops!\" at a party and you ...                  NaN   \n",
       "\n",
       "      retweeted_status_user_id retweeted_status_timestamp  \\\n",
       "1554                       NaN                        NaN   \n",
       "1171                       NaN                        NaN   \n",
       "1813                       NaN                        NaN   \n",
       "\n",
       "                                          expanded_urls  rating_numerator  \\\n",
       "1554  https://twitter.com/dog_rates/status/688898160...                10   \n",
       "1171  https://twitter.com/dog_rates/status/720415127...                10   \n",
       "1813  https://twitter.com/dog_rates/status/676776431...                10   \n",
       "\n",
       "      rating_denominator  name doggo floofer pupper puppo  \n",
       "1554                  10  None  None    None   None  None  \n",
       "1171                  10  None  None    None   None  None  \n",
       "1813                  10  None  None    None   None  None  "
      ]
     },
     "execution_count": 16,
     "metadata": {},
     "output_type": "execute_result"
    }
   ],
   "source": [
    "df_twe_1[df_twe_1.name == 'None'].sample(3)"
   ]
  },
  {
   "cell_type": "code",
   "execution_count": 17,
   "id": "0dad48c1",
   "metadata": {},
   "outputs": [
    {
     "data": {
      "text/plain": [
       "(2356, 2356, 2356, 2356)"
      ]
     },
     "execution_count": 17,
     "metadata": {},
     "output_type": "execute_result"
    }
   ],
   "source": [
    "len(df_twe_1.doggo == 'None'),len(df_twe_1.floofer == 'None'),len(df_twe_1.pupper == 'None'),len(df_twe_1.puppo == 'None')"
   ]
  },
  {
   "cell_type": "code",
   "execution_count": 18,
   "id": "04c1ad2f",
   "metadata": {},
   "outputs": [
    {
     "data": {
      "text/plain": [
       "1"
      ]
     },
     "execution_count": 18,
     "metadata": {},
     "output_type": "execute_result"
    }
   ],
   "source": [
    "len(df_twe_1.query('doggo != \"None\" and floofer != \"None\"'))"
   ]
  },
  {
   "cell_type": "code",
   "execution_count": 19,
   "id": "c41f0fb8",
   "metadata": {},
   "outputs": [
    {
     "data": {
      "text/plain": [
       "12"
      ]
     },
     "execution_count": 19,
     "metadata": {},
     "output_type": "execute_result"
    }
   ],
   "source": [
    "len(df_twe_1.query('doggo != \"None\" and pupper != \"None\"'))"
   ]
  },
  {
   "cell_type": "code",
   "execution_count": 20,
   "id": "03e2b235",
   "metadata": {},
   "outputs": [
    {
     "data": {
      "text/plain": [
       "1"
      ]
     },
     "execution_count": 20,
     "metadata": {},
     "output_type": "execute_result"
    }
   ],
   "source": [
    "len(df_twe_1.query('doggo != \"None\" and puppo != \"None\"'))"
   ]
  },
  {
   "cell_type": "code",
   "execution_count": 21,
   "id": "8c73921d",
   "metadata": {},
   "outputs": [
    {
     "data": {
      "text/plain": [
       "0"
      ]
     },
     "execution_count": 21,
     "metadata": {},
     "output_type": "execute_result"
    }
   ],
   "source": [
    "len(df_twe_1.query('floofer != \"None\" and pupper != \"None\"'))"
   ]
  },
  {
   "cell_type": "code",
   "execution_count": 22,
   "id": "811d915d",
   "metadata": {},
   "outputs": [
    {
     "data": {
      "text/plain": [
       "0"
      ]
     },
     "execution_count": 22,
     "metadata": {},
     "output_type": "execute_result"
    }
   ],
   "source": [
    "len(df_twe_1.query('floofer != \"None\" and puppo != \"None\"'))"
   ]
  },
  {
   "cell_type": "code",
   "execution_count": 23,
   "id": "15836843",
   "metadata": {},
   "outputs": [
    {
     "data": {
      "text/plain": [
       "0"
      ]
     },
     "execution_count": 23,
     "metadata": {},
     "output_type": "execute_result"
    }
   ],
   "source": [
    "len(df_twe_1.query('pupper != \"None\" and puppo != \"None\"'))"
   ]
  },
  {
   "cell_type": "code",
   "execution_count": 24,
   "id": "24b4220a",
   "metadata": {},
   "outputs": [
    {
     "data": {
      "text/plain": [
       "181"
      ]
     },
     "execution_count": 24,
     "metadata": {},
     "output_type": "execute_result"
    }
   ],
   "source": [
    "df_twe_1.shape[0] - len(df_twe_1[df_twe_1.retweeted_status_id.isnull()])"
   ]
  },
  {
   "cell_type": "code",
   "execution_count": 25,
   "id": "ad2802fa",
   "metadata": {},
   "outputs": [
    {
     "data": {
      "text/plain": [
       "12      558\n",
       "11      464\n",
       "10      461\n",
       "13      351\n",
       "9       158\n",
       "8       102\n",
       "7        55\n",
       "14       54\n",
       "5        37\n",
       "6        32\n",
       "3        19\n",
       "4        17\n",
       "2         9\n",
       "1         9\n",
       "75        2\n",
       "15        2\n",
       "420       2\n",
       "0         2\n",
       "80        1\n",
       "144       1\n",
       "17        1\n",
       "26        1\n",
       "20        1\n",
       "121       1\n",
       "143       1\n",
       "44        1\n",
       "60        1\n",
       "45        1\n",
       "50        1\n",
       "99        1\n",
       "204       1\n",
       "1776      1\n",
       "165       1\n",
       "666       1\n",
       "27        1\n",
       "182       1\n",
       "24        1\n",
       "960       1\n",
       "84        1\n",
       "88        1\n",
       "Name: rating_numerator, dtype: int64"
      ]
     },
     "execution_count": 25,
     "metadata": {},
     "output_type": "execute_result"
    }
   ],
   "source": [
    "df_twe_1.rating_numerator.value_counts()"
   ]
  },
  {
   "cell_type": "code",
   "execution_count": 26,
   "id": "054683cf",
   "metadata": {},
   "outputs": [
    {
     "data": {
      "text/plain": [
       "10     2333\n",
       "11        3\n",
       "50        3\n",
       "20        2\n",
       "80        2\n",
       "70        1\n",
       "7         1\n",
       "15        1\n",
       "150       1\n",
       "170       1\n",
       "0         1\n",
       "90        1\n",
       "40        1\n",
       "130       1\n",
       "110       1\n",
       "16        1\n",
       "120       1\n",
       "2         1\n",
       "Name: rating_denominator, dtype: int64"
      ]
     },
     "execution_count": 26,
     "metadata": {},
     "output_type": "execute_result"
    }
   ],
   "source": [
    "df_twe_1.rating_denominator.value_counts()"
   ]
  },
  {
   "cell_type": "code",
   "execution_count": 27,
   "id": "d363777b",
   "metadata": {},
   "outputs": [
    {
     "data": {
      "text/plain": [
       "2356"
      ]
     },
     "execution_count": 27,
     "metadata": {},
     "output_type": "execute_result"
    }
   ],
   "source": [
    "len(df_twe_1.source.str.contains('href'))"
   ]
  },
  {
   "cell_type": "code",
   "execution_count": 28,
   "id": "d3bc90d9",
   "metadata": {},
   "outputs": [
    {
     "name": "stdout",
     "output_type": "stream",
     "text": [
      "78\n"
     ]
    },
    {
     "data": {
      "text/html": [
       "<div>\n",
       "<style scoped>\n",
       "    .dataframe tbody tr th:only-of-type {\n",
       "        vertical-align: middle;\n",
       "    }\n",
       "\n",
       "    .dataframe tbody tr th {\n",
       "        vertical-align: top;\n",
       "    }\n",
       "\n",
       "    .dataframe thead th {\n",
       "        text-align: right;\n",
       "    }\n",
       "</style>\n",
       "<table border=\"1\" class=\"dataframe\">\n",
       "  <thead>\n",
       "    <tr style=\"text-align: right;\">\n",
       "      <th></th>\n",
       "      <th>tweet_id</th>\n",
       "      <th>in_reply_to_status_id</th>\n",
       "      <th>in_reply_to_user_id</th>\n",
       "      <th>timestamp</th>\n",
       "      <th>source</th>\n",
       "      <th>text</th>\n",
       "      <th>retweeted_status_id</th>\n",
       "      <th>retweeted_status_user_id</th>\n",
       "      <th>retweeted_status_timestamp</th>\n",
       "      <th>expanded_urls</th>\n",
       "      <th>rating_numerator</th>\n",
       "      <th>rating_denominator</th>\n",
       "      <th>name</th>\n",
       "      <th>doggo</th>\n",
       "      <th>floofer</th>\n",
       "      <th>pupper</th>\n",
       "      <th>puppo</th>\n",
       "    </tr>\n",
       "  </thead>\n",
       "  <tbody>\n",
       "    <tr>\n",
       "      <th>2036</th>\n",
       "      <td>671729906628341761</td>\n",
       "      <td>6.715610e+17</td>\n",
       "      <td>4.196984e+09</td>\n",
       "      <td>2015-12-01 16:37:44 +0000</td>\n",
       "      <td>&lt;a href=\"http://twitter.com/download/iphone\" r...</td>\n",
       "      <td>I'm just going to leave this one here as well....</td>\n",
       "      <td>NaN</td>\n",
       "      <td>NaN</td>\n",
       "      <td>NaN</td>\n",
       "      <td>https://twitter.com/dog_rates/status/671729906...</td>\n",
       "      <td>13</td>\n",
       "      <td>10</td>\n",
       "      <td>None</td>\n",
       "      <td>None</td>\n",
       "      <td>None</td>\n",
       "      <td>None</td>\n",
       "      <td>None</td>\n",
       "    </tr>\n",
       "    <tr>\n",
       "      <th>1914</th>\n",
       "      <td>674330906434379776</td>\n",
       "      <td>6.658147e+17</td>\n",
       "      <td>1.637468e+07</td>\n",
       "      <td>2015-12-08 20:53:11 +0000</td>\n",
       "      <td>&lt;a href=\"http://twitter.com/download/iphone\" r...</td>\n",
       "      <td>13/10\\n@ABC7</td>\n",
       "      <td>NaN</td>\n",
       "      <td>NaN</td>\n",
       "      <td>NaN</td>\n",
       "      <td>NaN</td>\n",
       "      <td>13</td>\n",
       "      <td>10</td>\n",
       "      <td>None</td>\n",
       "      <td>None</td>\n",
       "      <td>None</td>\n",
       "      <td>None</td>\n",
       "      <td>None</td>\n",
       "    </tr>\n",
       "    <tr>\n",
       "      <th>274</th>\n",
       "      <td>840698636975636481</td>\n",
       "      <td>8.406983e+17</td>\n",
       "      <td>8.405479e+17</td>\n",
       "      <td>2017-03-11 22:59:09 +0000</td>\n",
       "      <td>&lt;a href=\"http://twitter.com/download/iphone\" r...</td>\n",
       "      <td>@0_kelvin_0 &amp;gt;10/10 is reserved for puppos s...</td>\n",
       "      <td>NaN</td>\n",
       "      <td>NaN</td>\n",
       "      <td>NaN</td>\n",
       "      <td>NaN</td>\n",
       "      <td>10</td>\n",
       "      <td>10</td>\n",
       "      <td>None</td>\n",
       "      <td>None</td>\n",
       "      <td>None</td>\n",
       "      <td>None</td>\n",
       "      <td>None</td>\n",
       "    </tr>\n",
       "    <tr>\n",
       "      <th>1295</th>\n",
       "      <td>707983188426153984</td>\n",
       "      <td>7.079801e+17</td>\n",
       "      <td>2.319108e+09</td>\n",
       "      <td>2016-03-10 17:35:20 +0000</td>\n",
       "      <td>&lt;a href=\"http://twitter.com/download/iphone\" r...</td>\n",
       "      <td>@serial @MrRoles OH MY GOD I listened to all o...</td>\n",
       "      <td>NaN</td>\n",
       "      <td>NaN</td>\n",
       "      <td>NaN</td>\n",
       "      <td>NaN</td>\n",
       "      <td>12</td>\n",
       "      <td>10</td>\n",
       "      <td>None</td>\n",
       "      <td>None</td>\n",
       "      <td>None</td>\n",
       "      <td>None</td>\n",
       "      <td>None</td>\n",
       "    </tr>\n",
       "    <tr>\n",
       "      <th>2169</th>\n",
       "      <td>669353438988365824</td>\n",
       "      <td>6.678065e+17</td>\n",
       "      <td>4.196984e+09</td>\n",
       "      <td>2015-11-25 03:14:30 +0000</td>\n",
       "      <td>&lt;a href=\"http://twitter.com/download/iphone\" r...</td>\n",
       "      <td>This is Tessa. She is also very pleased after ...</td>\n",
       "      <td>NaN</td>\n",
       "      <td>NaN</td>\n",
       "      <td>NaN</td>\n",
       "      <td>https://twitter.com/dog_rates/status/669353438...</td>\n",
       "      <td>10</td>\n",
       "      <td>10</td>\n",
       "      <td>Tessa</td>\n",
       "      <td>None</td>\n",
       "      <td>None</td>\n",
       "      <td>None</td>\n",
       "      <td>None</td>\n",
       "    </tr>\n",
       "  </tbody>\n",
       "</table>\n",
       "</div>"
      ],
      "text/plain": [
       "                tweet_id  in_reply_to_status_id  in_reply_to_user_id  \\\n",
       "2036  671729906628341761           6.715610e+17         4.196984e+09   \n",
       "1914  674330906434379776           6.658147e+17         1.637468e+07   \n",
       "274   840698636975636481           8.406983e+17         8.405479e+17   \n",
       "1295  707983188426153984           7.079801e+17         2.319108e+09   \n",
       "2169  669353438988365824           6.678065e+17         4.196984e+09   \n",
       "\n",
       "                      timestamp  \\\n",
       "2036  2015-12-01 16:37:44 +0000   \n",
       "1914  2015-12-08 20:53:11 +0000   \n",
       "274   2017-03-11 22:59:09 +0000   \n",
       "1295  2016-03-10 17:35:20 +0000   \n",
       "2169  2015-11-25 03:14:30 +0000   \n",
       "\n",
       "                                                 source  \\\n",
       "2036  <a href=\"http://twitter.com/download/iphone\" r...   \n",
       "1914  <a href=\"http://twitter.com/download/iphone\" r...   \n",
       "274   <a href=\"http://twitter.com/download/iphone\" r...   \n",
       "1295  <a href=\"http://twitter.com/download/iphone\" r...   \n",
       "2169  <a href=\"http://twitter.com/download/iphone\" r...   \n",
       "\n",
       "                                                   text  retweeted_status_id  \\\n",
       "2036  I'm just going to leave this one here as well....                  NaN   \n",
       "1914                                       13/10\\n@ABC7                  NaN   \n",
       "274   @0_kelvin_0 &gt;10/10 is reserved for puppos s...                  NaN   \n",
       "1295  @serial @MrRoles OH MY GOD I listened to all o...                  NaN   \n",
       "2169  This is Tessa. She is also very pleased after ...                  NaN   \n",
       "\n",
       "      retweeted_status_user_id retweeted_status_timestamp  \\\n",
       "2036                       NaN                        NaN   \n",
       "1914                       NaN                        NaN   \n",
       "274                        NaN                        NaN   \n",
       "1295                       NaN                        NaN   \n",
       "2169                       NaN                        NaN   \n",
       "\n",
       "                                          expanded_urls  rating_numerator  \\\n",
       "2036  https://twitter.com/dog_rates/status/671729906...                13   \n",
       "1914                                                NaN                13   \n",
       "274                                                 NaN                10   \n",
       "1295                                                NaN                12   \n",
       "2169  https://twitter.com/dog_rates/status/669353438...                10   \n",
       "\n",
       "      rating_denominator   name doggo floofer pupper puppo  \n",
       "2036                  10   None  None    None   None  None  \n",
       "1914                  10   None  None    None   None  None  \n",
       "274                   10   None  None    None   None  None  \n",
       "1295                  10   None  None    None   None  None  \n",
       "2169                  10  Tessa  None    None   None  None  "
      ]
     },
     "execution_count": 28,
     "metadata": {},
     "output_type": "execute_result"
    }
   ],
   "source": [
    "print('{}'.format(len(df_twe_1[~df_twe_1.in_reply_to_status_id.isnull()])))\n",
    "df_twe_1[~df_twe_1.in_reply_to_status_id.isnull()].sample(5)"
   ]
  },
  {
   "cell_type": "code",
   "execution_count": 29,
   "id": "c407cb7c",
   "metadata": {},
   "outputs": [
    {
     "data": {
      "text/plain": [
       "281"
      ]
     },
     "execution_count": 29,
     "metadata": {},
     "output_type": "execute_result"
    }
   ],
   "source": [
    "len(df_twe_1[~df_twe_1['tweet_id'].isin(df_twe_2['tweet_id'])])"
   ]
  },
  {
   "cell_type": "code",
   "execution_count": 30,
   "id": "cc2334ec",
   "metadata": {},
   "outputs": [
    {
     "data": {
      "text/plain": [
       "2"
      ]
     },
     "execution_count": 30,
     "metadata": {},
     "output_type": "execute_result"
    }
   ],
   "source": [
    "len(df_twe_1[~df_twe_1['tweet_id'].isin(df_twe_3['id'])])"
   ]
  },
  {
   "cell_type": "code",
   "execution_count": 31,
   "id": "e1dbaf7c",
   "metadata": {},
   "outputs": [
    {
     "data": {
      "text/html": [
       "<div>\n",
       "<style scoped>\n",
       "    .dataframe tbody tr th:only-of-type {\n",
       "        vertical-align: middle;\n",
       "    }\n",
       "\n",
       "    .dataframe tbody tr th {\n",
       "        vertical-align: top;\n",
       "    }\n",
       "\n",
       "    .dataframe thead th {\n",
       "        text-align: right;\n",
       "    }\n",
       "</style>\n",
       "<table border=\"1\" class=\"dataframe\">\n",
       "  <thead>\n",
       "    <tr style=\"text-align: right;\">\n",
       "      <th></th>\n",
       "      <th>tweet_id</th>\n",
       "      <th>jpg_url</th>\n",
       "      <th>img_num</th>\n",
       "      <th>p1</th>\n",
       "      <th>p1_conf</th>\n",
       "      <th>p1_dog</th>\n",
       "      <th>p2</th>\n",
       "      <th>p2_conf</th>\n",
       "      <th>p2_dog</th>\n",
       "      <th>p3</th>\n",
       "      <th>p3_conf</th>\n",
       "      <th>p3_dog</th>\n",
       "    </tr>\n",
       "  </thead>\n",
       "  <tbody>\n",
       "    <tr>\n",
       "      <th>1123</th>\n",
       "      <td>727175381690781696</td>\n",
       "      <td>https://pbs.twimg.com/media/ChdyJvdWwAA5HGd.jpg</td>\n",
       "      <td>2</td>\n",
       "      <td>flat-coated_retriever</td>\n",
       "      <td>0.656463</td>\n",
       "      <td>True</td>\n",
       "      <td>Great_Dane</td>\n",
       "      <td>0.084766</td>\n",
       "      <td>True</td>\n",
       "      <td>Labrador_retriever</td>\n",
       "      <td>0.058909</td>\n",
       "      <td>True</td>\n",
       "    </tr>\n",
       "    <tr>\n",
       "      <th>1438</th>\n",
       "      <td>774314403806253056</td>\n",
       "      <td>https://pbs.twimg.com/media/Cr7q1VxWIAA5Nm7.jpg</td>\n",
       "      <td>3</td>\n",
       "      <td>Eskimo_dog</td>\n",
       "      <td>0.596045</td>\n",
       "      <td>True</td>\n",
       "      <td>Siberian_husky</td>\n",
       "      <td>0.223067</td>\n",
       "      <td>True</td>\n",
       "      <td>Saluki</td>\n",
       "      <td>0.036325</td>\n",
       "      <td>True</td>\n",
       "    </tr>\n",
       "    <tr>\n",
       "      <th>333</th>\n",
       "      <td>672160042234327040</td>\n",
       "      <td>https://pbs.twimg.com/media/CVP9_beUEAAwURR.jpg</td>\n",
       "      <td>1</td>\n",
       "      <td>pug</td>\n",
       "      <td>0.561027</td>\n",
       "      <td>True</td>\n",
       "      <td>French_bulldog</td>\n",
       "      <td>0.222114</td>\n",
       "      <td>True</td>\n",
       "      <td>Labrador_retriever</td>\n",
       "      <td>0.065456</td>\n",
       "      <td>True</td>\n",
       "    </tr>\n",
       "    <tr>\n",
       "      <th>479</th>\n",
       "      <td>675349384339542016</td>\n",
       "      <td>https://pbs.twimg.com/media/CV9SrABU4AQI46z.jpg</td>\n",
       "      <td>3</td>\n",
       "      <td>borzoi</td>\n",
       "      <td>0.866367</td>\n",
       "      <td>True</td>\n",
       "      <td>Saluki</td>\n",
       "      <td>0.122079</td>\n",
       "      <td>True</td>\n",
       "      <td>Irish_wolfhound</td>\n",
       "      <td>0.004020</td>\n",
       "      <td>True</td>\n",
       "    </tr>\n",
       "    <tr>\n",
       "      <th>532</th>\n",
       "      <td>676864501615042560</td>\n",
       "      <td>https://pbs.twimg.com/media/CWS0q8iU8AE2Srr.jpg</td>\n",
       "      <td>1</td>\n",
       "      <td>Chesapeake_Bay_retriever</td>\n",
       "      <td>0.371146</td>\n",
       "      <td>True</td>\n",
       "      <td>water_buffalo</td>\n",
       "      <td>0.099596</td>\n",
       "      <td>False</td>\n",
       "      <td>Weimaraner</td>\n",
       "      <td>0.048968</td>\n",
       "      <td>True</td>\n",
       "    </tr>\n",
       "  </tbody>\n",
       "</table>\n",
       "</div>"
      ],
      "text/plain": [
       "                tweet_id                                          jpg_url  \\\n",
       "1123  727175381690781696  https://pbs.twimg.com/media/ChdyJvdWwAA5HGd.jpg   \n",
       "1438  774314403806253056  https://pbs.twimg.com/media/Cr7q1VxWIAA5Nm7.jpg   \n",
       "333   672160042234327040  https://pbs.twimg.com/media/CVP9_beUEAAwURR.jpg   \n",
       "479   675349384339542016  https://pbs.twimg.com/media/CV9SrABU4AQI46z.jpg   \n",
       "532   676864501615042560  https://pbs.twimg.com/media/CWS0q8iU8AE2Srr.jpg   \n",
       "\n",
       "      img_num                        p1   p1_conf  p1_dog              p2  \\\n",
       "1123        2     flat-coated_retriever  0.656463    True      Great_Dane   \n",
       "1438        3                Eskimo_dog  0.596045    True  Siberian_husky   \n",
       "333         1                       pug  0.561027    True  French_bulldog   \n",
       "479         3                    borzoi  0.866367    True          Saluki   \n",
       "532         1  Chesapeake_Bay_retriever  0.371146    True   water_buffalo   \n",
       "\n",
       "       p2_conf  p2_dog                  p3   p3_conf  p3_dog  \n",
       "1123  0.084766    True  Labrador_retriever  0.058909    True  \n",
       "1438  0.223067    True              Saluki  0.036325    True  \n",
       "333   0.222114    True  Labrador_retriever  0.065456    True  \n",
       "479   0.122079    True     Irish_wolfhound  0.004020    True  \n",
       "532   0.099596   False          Weimaraner  0.048968    True  "
      ]
     },
     "execution_count": 31,
     "metadata": {},
     "output_type": "execute_result"
    }
   ],
   "source": [
    "df_twe_2.sample(5)"
   ]
  },
  {
   "cell_type": "code",
   "execution_count": 32,
   "id": "2b167e25",
   "metadata": {},
   "outputs": [
    {
     "name": "stdout",
     "output_type": "stream",
     "text": [
      "<class 'pandas.core.frame.DataFrame'>\n",
      "RangeIndex: 2075 entries, 0 to 2074\n",
      "Data columns (total 12 columns):\n",
      " #   Column    Non-Null Count  Dtype  \n",
      "---  ------    --------------  -----  \n",
      " 0   tweet_id  2075 non-null   int64  \n",
      " 1   jpg_url   2075 non-null   object \n",
      " 2   img_num   2075 non-null   int64  \n",
      " 3   p1        2075 non-null   object \n",
      " 4   p1_conf   2075 non-null   float64\n",
      " 5   p1_dog    2075 non-null   bool   \n",
      " 6   p2        2075 non-null   object \n",
      " 7   p2_conf   2075 non-null   float64\n",
      " 8   p2_dog    2075 non-null   bool   \n",
      " 9   p3        2075 non-null   object \n",
      " 10  p3_conf   2075 non-null   float64\n",
      " 11  p3_dog    2075 non-null   bool   \n",
      "dtypes: bool(3), float64(3), int64(2), object(4)\n",
      "memory usage: 152.1+ KB\n"
     ]
    }
   ],
   "source": [
    "df_twe_2.info()"
   ]
  },
  {
   "cell_type": "code",
   "execution_count": 33,
   "id": "d941e330",
   "metadata": {},
   "outputs": [
    {
     "name": "stdout",
     "output_type": "stream",
     "text": [
      "<class 'pandas.core.frame.DataFrame'>\n",
      "RangeIndex: 2354 entries, 0 to 2353\n",
      "Data columns (total 3 columns):\n",
      " #   Column          Non-Null Count  Dtype\n",
      "---  ------          --------------  -----\n",
      " 0   id              2354 non-null   int64\n",
      " 1   retweet_count   2354 non-null   int64\n",
      " 2   favorite_count  2354 non-null   int64\n",
      "dtypes: int64(3)\n",
      "memory usage: 55.3 KB\n"
     ]
    }
   ],
   "source": [
    "df_twe_3.info()"
   ]
  },
  {
   "cell_type": "markdown",
   "id": "235c2239",
   "metadata": {},
   "source": [
    "## Qualities issues"
   ]
  },
  {
   "cell_type": "markdown",
   "id": "59638bab",
   "metadata": {},
   "source": [
    "- There is retweets column in twitter achive dataset that are duplicates of actual tweets\n",
    "- Many tweet_id(s) in the archive datasets are missing in the image_prediction datasets and the tweet.json datframe\n",
    "- The html tags in source column is not important\n",
    "- The ,in_reply_to_status_id and in_reply_to_user_id are in a inapprpropraite datatypes,timestamp is not in a datetime datatype,rating numerator and denominator should be float datatype\n",
    "- some of the name column(dog name) is inappropriate and missing\n",
    "- TimeStamp column is not in datetime datatype\n",
    "- none string should be in nan format\n",
    "- columns p1,p2,p3 in image_prediction datasets should be converted to a categoriacal datatype\n",
    "- retweeted_status_id,retweeted_status_user_id,retweeted_status_timestamp will become empty after archive dataframe has dropped duplicates which will have to be dropped.\n",
    "- drop the rows with missing tweets and dog name\n",
    "- tweet_id should be converted to object datatype(string)"
   ]
  },
  {
   "cell_type": "markdown",
   "id": "acdf2d7a",
   "metadata": {},
   "source": [
    "## Tidiness issues"
   ]
  },
  {
   "cell_type": "markdown",
   "id": "2c92d441",
   "metadata": {},
   "source": [
    "- floofer,doggo,puppo,pupper columns should be in one column (dog stages)\n",
    "- The three datasets are part of the same observational unit and should be merged into one (dataset: twitter_archive_master.csv as instructed)"
   ]
  },
  {
   "cell_type": "markdown",
   "id": "d667b454",
   "metadata": {},
   "source": [
    "## Data Cleaning"
   ]
  },
  {
   "cell_type": "markdown",
   "id": "e315543a",
   "metadata": {},
   "source": [
    "### Quality issue 1  - There is retweets column in twitter achive dataset that are duplicates of actual tweets"
   ]
  },
  {
   "cell_type": "markdown",
   "id": "7d438b91",
   "metadata": {},
   "source": [
    "### solution -- create a new dataframe where theres no RT in text column and check using retweeted_status_id"
   ]
  },
  {
   "cell_type": "code",
   "execution_count": 34,
   "id": "86d4b2da",
   "metadata": {},
   "outputs": [],
   "source": [
    "df_twe_1_copy  = df_twe_1.copy()"
   ]
  },
  {
   "cell_type": "code",
   "execution_count": 35,
   "id": "f5eb7d0b",
   "metadata": {},
   "outputs": [],
   "source": [
    "df_twe_1_copy = df_twe_1_copy[~df_twe_1_copy.text.str.contains('RT @')]  # i had to put the @ sign in  front of Rt bacause some users tweet's ask others to RT"
   ]
  },
  {
   "cell_type": "code",
   "execution_count": 36,
   "id": "77e3a517",
   "metadata": {},
   "outputs": [
    {
     "data": {
      "text/plain": [
       "0"
      ]
     },
     "execution_count": 36,
     "metadata": {},
     "output_type": "execute_result"
    }
   ],
   "source": [
    "#use the retweeted status id to check if its been resolved\n",
    "len(df_twe_1_copy[~df_twe_1_copy.retweeted_status_id.isnull()])"
   ]
  },
  {
   "cell_type": "code",
   "execution_count": 37,
   "id": "dd35c039",
   "metadata": {},
   "outputs": [
    {
     "data": {
      "text/html": [
       "<div>\n",
       "<style scoped>\n",
       "    .dataframe tbody tr th:only-of-type {\n",
       "        vertical-align: middle;\n",
       "    }\n",
       "\n",
       "    .dataframe tbody tr th {\n",
       "        vertical-align: top;\n",
       "    }\n",
       "\n",
       "    .dataframe thead th {\n",
       "        text-align: right;\n",
       "    }\n",
       "</style>\n",
       "<table border=\"1\" class=\"dataframe\">\n",
       "  <thead>\n",
       "    <tr style=\"text-align: right;\">\n",
       "      <th></th>\n",
       "      <th>tweet_id</th>\n",
       "      <th>in_reply_to_status_id</th>\n",
       "      <th>in_reply_to_user_id</th>\n",
       "      <th>timestamp</th>\n",
       "      <th>source</th>\n",
       "      <th>text</th>\n",
       "      <th>retweeted_status_id</th>\n",
       "      <th>retweeted_status_user_id</th>\n",
       "      <th>retweeted_status_timestamp</th>\n",
       "      <th>expanded_urls</th>\n",
       "      <th>rating_numerator</th>\n",
       "      <th>rating_denominator</th>\n",
       "      <th>name</th>\n",
       "      <th>doggo</th>\n",
       "      <th>floofer</th>\n",
       "      <th>pupper</th>\n",
       "      <th>puppo</th>\n",
       "    </tr>\n",
       "  </thead>\n",
       "  <tbody>\n",
       "    <tr>\n",
       "      <th>2030</th>\n",
       "      <td>671789708968640512</td>\n",
       "      <td>NaN</td>\n",
       "      <td>NaN</td>\n",
       "      <td>2015-12-01 20:35:22 +0000</td>\n",
       "      <td>&lt;a href=\"http://twitter.com/download/iphone\" r...</td>\n",
       "      <td>This is space pup. He's very confused. Tries t...</td>\n",
       "      <td>NaN</td>\n",
       "      <td>NaN</td>\n",
       "      <td>NaN</td>\n",
       "      <td>https://twitter.com/dog_rates/status/671789708...</td>\n",
       "      <td>13</td>\n",
       "      <td>10</td>\n",
       "      <td>space</td>\n",
       "      <td>None</td>\n",
       "      <td>None</td>\n",
       "      <td>None</td>\n",
       "      <td>None</td>\n",
       "    </tr>\n",
       "  </tbody>\n",
       "</table>\n",
       "</div>"
      ],
      "text/plain": [
       "                tweet_id  in_reply_to_status_id  in_reply_to_user_id  \\\n",
       "2030  671789708968640512                    NaN                  NaN   \n",
       "\n",
       "                      timestamp  \\\n",
       "2030  2015-12-01 20:35:22 +0000   \n",
       "\n",
       "                                                 source  \\\n",
       "2030  <a href=\"http://twitter.com/download/iphone\" r...   \n",
       "\n",
       "                                                   text  retweeted_status_id  \\\n",
       "2030  This is space pup. He's very confused. Tries t...                  NaN   \n",
       "\n",
       "      retweeted_status_user_id retweeted_status_timestamp  \\\n",
       "2030                       NaN                        NaN   \n",
       "\n",
       "                                          expanded_urls  rating_numerator  \\\n",
       "2030  https://twitter.com/dog_rates/status/671789708...                13   \n",
       "\n",
       "      rating_denominator   name doggo floofer pupper puppo  \n",
       "2030                  10  space  None    None   None  None  "
      ]
     },
     "execution_count": 37,
     "metadata": {},
     "output_type": "execute_result"
    }
   ],
   "source": [
    "df_twe_1_copy.sample(1) #the tweets do not contain RT's anymore"
   ]
  },
  {
   "cell_type": "markdown",
   "id": "1e3aefa7",
   "metadata": {},
   "source": [
    "### Quality issue 2 - Many tweet_id(s) in the archive datasets are missing in the image_prediction datasets"
   ]
  },
  {
   "cell_type": "markdown",
   "id": "1a6c900d",
   "metadata": {},
   "source": [
    "### solution -- remove rows in archive dataframe where tweet_id does not exists in image_prediction dataframe and the tweet.json dataframe"
   ]
  },
  {
   "cell_type": "code",
   "execution_count": 38,
   "id": "543b2de9",
   "metadata": {},
   "outputs": [],
   "source": [
    "df_twe_1_copy = df_twe_1_copy[(df_twe_1_copy.tweet_id.isin(df_twe_2.tweet_id)) & df_twe_1_copy.tweet_id.isin(df_twe_3.id)]"
   ]
  },
  {
   "cell_type": "code",
   "execution_count": 39,
   "id": "959b1182",
   "metadata": {},
   "outputs": [
    {
     "data": {
      "text/plain": [
       "0"
      ]
     },
     "execution_count": 39,
     "metadata": {},
     "output_type": "execute_result"
    }
   ],
   "source": [
    "len(df_twe_1_copy[~(df_twe_1_copy.tweet_id.isin(df_twe_2.tweet_id))])"
   ]
  },
  {
   "cell_type": "code",
   "execution_count": 40,
   "id": "cb15fa08",
   "metadata": {},
   "outputs": [
    {
     "data": {
      "text/plain": [
       "0"
      ]
     },
     "execution_count": 40,
     "metadata": {},
     "output_type": "execute_result"
    }
   ],
   "source": [
    "len(df_twe_1_copy[~df_twe_1['tweet_id'].isin(df_twe_3['id'])])"
   ]
  },
  {
   "cell_type": "markdown",
   "id": "fd327159",
   "metadata": {},
   "source": [
    "### Quality issue 3 -- The html tags in source column is not important"
   ]
  },
  {
   "cell_type": "markdown",
   "id": "6ce841aa",
   "metadata": {},
   "source": [
    "### Solution -- replace the tags with empty strings"
   ]
  },
  {
   "cell_type": "code",
   "execution_count": 41,
   "id": "a83ff9a3",
   "metadata": {},
   "outputs": [],
   "source": [
    "import re\n",
    "df_twe_1_copy.source = df_twe_1_copy.source.apply(lambda x: re.sub(r'<(a|/a).*?>','',x))"
   ]
  },
  {
   "cell_type": "code",
   "execution_count": 42,
   "id": "1997c6ba",
   "metadata": {},
   "outputs": [
    {
     "data": {
      "text/plain": [
       "Twitter for iPhone    1955\n",
       "Twitter Web Client      28\n",
       "TweetDeck               11\n",
       "Name: source, dtype: int64"
      ]
     },
     "execution_count": 42,
     "metadata": {},
     "output_type": "execute_result"
    }
   ],
   "source": [
    "df_twe_1_copy.source.value_counts() ## cleaned"
   ]
  },
  {
   "cell_type": "markdown",
   "id": "14ccb655",
   "metadata": {},
   "source": [
    "### Quality issue 4 --- The in_reply_to_status_id and in_reply_to_user_id are in a inapprpropraite datatypes"
   ]
  },
  {
   "cell_type": "markdown",
   "id": "6511245d",
   "metadata": {},
   "source": [
    "### solution -- convert in_reply_to_status_id and in_reply_to_user_id to object datatypes and fill the missing values with zero,rating numerator and denominator should be float datatype"
   ]
  },
  {
   "cell_type": "code",
   "execution_count": 43,
   "id": "eddf5ae2",
   "metadata": {},
   "outputs": [],
   "source": [
    "df_twe_1_copy.in_reply_to_status_id = df_twe_1_copy.in_reply_to_status_id.fillna(value=0)"
   ]
  },
  {
   "cell_type": "code",
   "execution_count": 44,
   "id": "22a8b010",
   "metadata": {},
   "outputs": [],
   "source": [
    "df_twe_1_copy.in_reply_to_user_id = df_twe_1_copy.in_reply_to_user_id.fillna(value=0)"
   ]
  },
  {
   "cell_type": "code",
   "execution_count": 54,
   "id": "589eb71e",
   "metadata": {},
   "outputs": [],
   "source": [
    "df_twe_1_copy.in_reply_to_status_id = df_twe_1_copy.in_reply_to_status_id.astype('object')\n",
    "df_twe_1_copy.in_reply_to_user_id = df_twe_1_copy.in_reply_to_user_id.astype('object')\n",
    "df_twe_1_copy.rating_numerator = df_twe_1_copy.rating_numerator.astype(np.float32)\n",
    "df_twe_1_copy.rating_denominator = df_twe_1_copy.rating_denominator.astype(np.float32)"
   ]
  },
  {
   "cell_type": "code",
   "execution_count": 55,
   "id": "ef02c57b",
   "metadata": {},
   "outputs": [],
   "source": [
    "#thank you to my reviewer to this snippet of code\n",
    "rating = df_twe_1_copy.text.str.extract('((?:\\d+\\.)?\\d+)\\/(\\d+)', expand=True)\n",
    "rating.columns = ['rating_numerator', 'rating_denominator']"
   ]
  },
  {
   "cell_type": "code",
   "execution_count": 56,
   "id": "6b3a868a",
   "metadata": {},
   "outputs": [
    {
     "name": "stdout",
     "output_type": "stream",
     "text": [
      "<class 'pandas.core.frame.DataFrame'>\n",
      "Int64Index: 1994 entries, 0 to 2355\n",
      "Data columns (total 17 columns):\n",
      " #   Column                      Non-Null Count  Dtype  \n",
      "---  ------                      --------------  -----  \n",
      " 0   tweet_id                    1994 non-null   int64  \n",
      " 1   in_reply_to_status_id       1994 non-null   object \n",
      " 2   in_reply_to_user_id         1994 non-null   object \n",
      " 3   timestamp                   1994 non-null   object \n",
      " 4   source                      1994 non-null   object \n",
      " 5   text                        1994 non-null   object \n",
      " 6   retweeted_status_id         0 non-null      float64\n",
      " 7   retweeted_status_user_id    0 non-null      float64\n",
      " 8   retweeted_status_timestamp  0 non-null      object \n",
      " 9   expanded_urls               1994 non-null   object \n",
      " 10  rating_numerator            1994 non-null   float32\n",
      " 11  rating_denominator          1994 non-null   float32\n",
      " 12  name                        1994 non-null   object \n",
      " 13  doggo                       1994 non-null   object \n",
      " 14  floofer                     1994 non-null   object \n",
      " 15  pupper                      1994 non-null   object \n",
      " 16  puppo                       1994 non-null   object \n",
      "dtypes: float32(2), float64(2), int64(1), object(12)\n",
      "memory usage: 264.8+ KB\n"
     ]
    }
   ],
   "source": [
    "df_twe_1_copy.info()"
   ]
  },
  {
   "cell_type": "code",
   "execution_count": 59,
   "id": "45e2c872",
   "metadata": {},
   "outputs": [
    {
     "data": {
      "text/html": [
       "<div>\n",
       "<style scoped>\n",
       "    .dataframe tbody tr th:only-of-type {\n",
       "        vertical-align: middle;\n",
       "    }\n",
       "\n",
       "    .dataframe tbody tr th {\n",
       "        vertical-align: top;\n",
       "    }\n",
       "\n",
       "    .dataframe thead th {\n",
       "        text-align: right;\n",
       "    }\n",
       "</style>\n",
       "<table border=\"1\" class=\"dataframe\">\n",
       "  <thead>\n",
       "    <tr style=\"text-align: right;\">\n",
       "      <th></th>\n",
       "      <th>tweet_id</th>\n",
       "      <th>in_reply_to_status_id</th>\n",
       "      <th>in_reply_to_user_id</th>\n",
       "      <th>timestamp</th>\n",
       "      <th>source</th>\n",
       "      <th>text</th>\n",
       "      <th>retweeted_status_id</th>\n",
       "      <th>retweeted_status_user_id</th>\n",
       "      <th>retweeted_status_timestamp</th>\n",
       "      <th>expanded_urls</th>\n",
       "      <th>rating_numerator</th>\n",
       "      <th>rating_denominator</th>\n",
       "      <th>name</th>\n",
       "      <th>doggo</th>\n",
       "      <th>floofer</th>\n",
       "      <th>pupper</th>\n",
       "      <th>puppo</th>\n",
       "    </tr>\n",
       "  </thead>\n",
       "  <tbody>\n",
       "    <tr>\n",
       "      <th>1854</th>\n",
       "      <td>675534494439489536</td>\n",
       "      <td>0.0</td>\n",
       "      <td>0.0</td>\n",
       "      <td>2015-12-12 04:35:48 +0000</td>\n",
       "      <td>Twitter for iPhone</td>\n",
       "      <td>Seriously guys?! Only send in dogs. I only rat...</td>\n",
       "      <td>NaN</td>\n",
       "      <td>NaN</td>\n",
       "      <td>NaN</td>\n",
       "      <td>https://twitter.com/dog_rates/status/675534494...</td>\n",
       "      <td>11.0</td>\n",
       "      <td>10.0</td>\n",
       "      <td>a</td>\n",
       "      <td>None</td>\n",
       "      <td>None</td>\n",
       "      <td>None</td>\n",
       "      <td>None</td>\n",
       "    </tr>\n",
       "  </tbody>\n",
       "</table>\n",
       "</div>"
      ],
      "text/plain": [
       "                tweet_id in_reply_to_status_id in_reply_to_user_id  \\\n",
       "1854  675534494439489536                   0.0                 0.0   \n",
       "\n",
       "                      timestamp              source  \\\n",
       "1854  2015-12-12 04:35:48 +0000  Twitter for iPhone   \n",
       "\n",
       "                                                   text  retweeted_status_id  \\\n",
       "1854  Seriously guys?! Only send in dogs. I only rat...                  NaN   \n",
       "\n",
       "      retweeted_status_user_id retweeted_status_timestamp  \\\n",
       "1854                       NaN                        NaN   \n",
       "\n",
       "                                          expanded_urls  rating_numerator  \\\n",
       "1854  https://twitter.com/dog_rates/status/675534494...              11.0   \n",
       "\n",
       "      rating_denominator name doggo floofer pupper puppo  \n",
       "1854                10.0    a  None    None   None  None  "
      ]
     },
     "execution_count": 59,
     "metadata": {},
     "output_type": "execute_result"
    }
   ],
   "source": [
    "df_twe_1_copy.sample()"
   ]
  },
  {
   "cell_type": "markdown",
   "id": "dc87d54e",
   "metadata": {},
   "source": [
    "### Question 5 -- some of the name column(dog name) is inappropriate and missing"
   ]
  },
  {
   "cell_type": "markdown",
   "id": "0e187729",
   "metadata": {},
   "source": [
    "### Solution -- change the inappropraite names to none,not nan because there are already some values in the column containing the value none"
   ]
  },
  {
   "cell_type": "code",
   "execution_count": 60,
   "id": "b3c5c8ce",
   "metadata": {},
   "outputs": [],
   "source": [
    "df_twe_1_copy['name'][df_twe_1_copy.name.str.islower()] = 'None'"
   ]
  },
  {
   "cell_type": "code",
   "execution_count": 61,
   "id": "0593608c",
   "metadata": {},
   "outputs": [
    {
     "data": {
      "text/plain": [
       "Abby            2\n",
       "Ace             1\n",
       "Acro            1\n",
       "Adele           1\n",
       "Aiden           1\n",
       "Aja             1\n",
       "Akumi           1\n",
       "Al              1\n",
       "Albert          2\n",
       "Albus           2\n",
       "Aldrick         1\n",
       "Alejandro       1\n",
       "Alexander       1\n",
       "Alexanderson    1\n",
       "Alf             1\n",
       "Alfie           4\n",
       "Alfy            1\n",
       "Alice           2\n",
       "Amber           1\n",
       "Ambrose         1\n",
       "Amy             1\n",
       "Amélie          1\n",
       "Anakin          1\n",
       "Andru           1\n",
       "Andy            1\n",
       "Angel           1\n",
       "Anna            1\n",
       "Anthony         1\n",
       "Antony          1\n",
       "Apollo          1\n",
       "Name: name, dtype: int64"
      ]
     },
     "execution_count": 61,
     "metadata": {},
     "output_type": "execute_result"
    }
   ],
   "source": [
    "df_twe_1_copy[~df_twe_1_copy.name.str.islower()].name.value_counts().sort_index(ascending = True).head(30)"
   ]
  },
  {
   "cell_type": "code",
   "execution_count": 62,
   "id": "46d6ff96",
   "metadata": {},
   "outputs": [
    {
     "data": {
      "text/html": [
       "<div>\n",
       "<style scoped>\n",
       "    .dataframe tbody tr th:only-of-type {\n",
       "        vertical-align: middle;\n",
       "    }\n",
       "\n",
       "    .dataframe tbody tr th {\n",
       "        vertical-align: top;\n",
       "    }\n",
       "\n",
       "    .dataframe thead th {\n",
       "        text-align: right;\n",
       "    }\n",
       "</style>\n",
       "<table border=\"1\" class=\"dataframe\">\n",
       "  <thead>\n",
       "    <tr style=\"text-align: right;\">\n",
       "      <th></th>\n",
       "      <th>tweet_id</th>\n",
       "      <th>in_reply_to_status_id</th>\n",
       "      <th>in_reply_to_user_id</th>\n",
       "      <th>timestamp</th>\n",
       "      <th>source</th>\n",
       "      <th>text</th>\n",
       "      <th>retweeted_status_id</th>\n",
       "      <th>retweeted_status_user_id</th>\n",
       "      <th>retweeted_status_timestamp</th>\n",
       "      <th>expanded_urls</th>\n",
       "      <th>rating_numerator</th>\n",
       "      <th>rating_denominator</th>\n",
       "      <th>name</th>\n",
       "      <th>doggo</th>\n",
       "      <th>floofer</th>\n",
       "      <th>pupper</th>\n",
       "      <th>puppo</th>\n",
       "    </tr>\n",
       "  </thead>\n",
       "  <tbody>\n",
       "    <tr>\n",
       "      <th>1672</th>\n",
       "      <td>682389078323662849</td>\n",
       "      <td>0.0</td>\n",
       "      <td>0.0</td>\n",
       "      <td>2015-12-31 02:33:29 +0000</td>\n",
       "      <td>Twitter for iPhone</td>\n",
       "      <td>Meet Brody. He's a Downton Abbey Falsetto. Add...</td>\n",
       "      <td>NaN</td>\n",
       "      <td>NaN</td>\n",
       "      <td>NaN</td>\n",
       "      <td>https://twitter.com/dog_rates/status/682389078...</td>\n",
       "      <td>9.0</td>\n",
       "      <td>10.0</td>\n",
       "      <td>Brody</td>\n",
       "      <td>None</td>\n",
       "      <td>None</td>\n",
       "      <td>None</td>\n",
       "      <td>None</td>\n",
       "    </tr>\n",
       "  </tbody>\n",
       "</table>\n",
       "</div>"
      ],
      "text/plain": [
       "                tweet_id in_reply_to_status_id in_reply_to_user_id  \\\n",
       "1672  682389078323662849                   0.0                 0.0   \n",
       "\n",
       "                      timestamp              source  \\\n",
       "1672  2015-12-31 02:33:29 +0000  Twitter for iPhone   \n",
       "\n",
       "                                                   text  retweeted_status_id  \\\n",
       "1672  Meet Brody. He's a Downton Abbey Falsetto. Add...                  NaN   \n",
       "\n",
       "      retweeted_status_user_id retweeted_status_timestamp  \\\n",
       "1672                       NaN                        NaN   \n",
       "\n",
       "                                          expanded_urls  rating_numerator  \\\n",
       "1672  https://twitter.com/dog_rates/status/682389078...               9.0   \n",
       "\n",
       "      rating_denominator   name doggo floofer pupper puppo  \n",
       "1672                10.0  Brody  None    None   None  None  "
      ]
     },
     "execution_count": 62,
     "metadata": {},
     "output_type": "execute_result"
    }
   ],
   "source": [
    "df_twe_1_copy.sample()"
   ]
  },
  {
   "cell_type": "markdown",
   "id": "c884aad1",
   "metadata": {},
   "source": [
    "### Quality issue 6 -- TimeStamp column is not in datetime datatype"
   ]
  },
  {
   "cell_type": "markdown",
   "id": "53e296fd",
   "metadata": {},
   "source": [
    "### solution -- convert the column into a datetime datatype"
   ]
  },
  {
   "cell_type": "code",
   "execution_count": 63,
   "id": "f4f44787",
   "metadata": {},
   "outputs": [],
   "source": [
    "df_twe_1_copy.timestamp = pd.to_datetime(df_twe_1_copy.timestamp)"
   ]
  },
  {
   "cell_type": "code",
   "execution_count": 64,
   "id": "a833fdd9",
   "metadata": {},
   "outputs": [
    {
     "name": "stdout",
     "output_type": "stream",
     "text": [
      "<class 'pandas.core.frame.DataFrame'>\n",
      "Int64Index: 1994 entries, 0 to 2355\n",
      "Data columns (total 17 columns):\n",
      " #   Column                      Non-Null Count  Dtype              \n",
      "---  ------                      --------------  -----              \n",
      " 0   tweet_id                    1994 non-null   int64              \n",
      " 1   in_reply_to_status_id       1994 non-null   object             \n",
      " 2   in_reply_to_user_id         1994 non-null   object             \n",
      " 3   timestamp                   1994 non-null   datetime64[ns, UTC]\n",
      " 4   source                      1994 non-null   object             \n",
      " 5   text                        1994 non-null   object             \n",
      " 6   retweeted_status_id         0 non-null      float64            \n",
      " 7   retweeted_status_user_id    0 non-null      float64            \n",
      " 8   retweeted_status_timestamp  0 non-null      object             \n",
      " 9   expanded_urls               1994 non-null   object             \n",
      " 10  rating_numerator            1994 non-null   float32            \n",
      " 11  rating_denominator          1994 non-null   float32            \n",
      " 12  name                        1994 non-null   object             \n",
      " 13  doggo                       1994 non-null   object             \n",
      " 14  floofer                     1994 non-null   object             \n",
      " 15  pupper                      1994 non-null   object             \n",
      " 16  puppo                       1994 non-null   object             \n",
      "dtypes: datetime64[ns, UTC](1), float32(2), float64(2), int64(1), object(11)\n",
      "memory usage: 264.8+ KB\n"
     ]
    }
   ],
   "source": [
    "df_twe_1_copy.info()"
   ]
  },
  {
   "cell_type": "markdown",
   "id": "86fee38a",
   "metadata": {},
   "source": [
    "### Quality issue 8 - - columns p1,p2,p3 in image_prediction datasets should be converted to a categoriacal datatype"
   ]
  },
  {
   "cell_type": "markdown",
   "id": "73245d9d",
   "metadata": {},
   "source": [
    "### Solution -- convert the columns to categorical type"
   ]
  },
  {
   "cell_type": "code",
   "execution_count": 65,
   "id": "b0d20f79",
   "metadata": {},
   "outputs": [],
   "source": [
    "df_twe_2_copy = df_twe_2.copy()"
   ]
  },
  {
   "cell_type": "code",
   "execution_count": 66,
   "id": "bf46de0c",
   "metadata": {},
   "outputs": [],
   "source": [
    "df_twe_2_copy[['p1','p2','p3']] = df_twe_2_copy[['p1','p2','p3']].astype('category')"
   ]
  },
  {
   "cell_type": "code",
   "execution_count": 67,
   "id": "1f5b4238",
   "metadata": {},
   "outputs": [
    {
     "name": "stdout",
     "output_type": "stream",
     "text": [
      "<class 'pandas.core.frame.DataFrame'>\n",
      "RangeIndex: 2075 entries, 0 to 2074\n",
      "Data columns (total 12 columns):\n",
      " #   Column    Non-Null Count  Dtype   \n",
      "---  ------    --------------  -----   \n",
      " 0   tweet_id  2075 non-null   int64   \n",
      " 1   jpg_url   2075 non-null   object  \n",
      " 2   img_num   2075 non-null   int64   \n",
      " 3   p1        2075 non-null   category\n",
      " 4   p1_conf   2075 non-null   float64 \n",
      " 5   p1_dog    2075 non-null   bool    \n",
      " 6   p2        2075 non-null   category\n",
      " 7   p2_conf   2075 non-null   float64 \n",
      " 8   p2_dog    2075 non-null   bool    \n",
      " 9   p3        2075 non-null   category\n",
      " 10  p3_conf   2075 non-null   float64 \n",
      " 11  p3_dog    2075 non-null   bool    \n",
      "dtypes: bool(3), category(3), float64(3), int64(2), object(1)\n",
      "memory usage: 165.4+ KB\n"
     ]
    }
   ],
   "source": [
    "df_twe_2_copy.info()"
   ]
  },
  {
   "cell_type": "markdown",
   "id": "fac9eaf7",
   "metadata": {},
   "source": [
    "### Tidiness issue 1 --- floofer,doggo,puppo,pupper columns should be in one column"
   ]
  },
  {
   "cell_type": "markdown",
   "id": "2d8ac899",
   "metadata": {},
   "source": [
    "### solution -- place the three columns in one column (dog_stage) and drop the columns from the datasets"
   ]
  },
  {
   "cell_type": "code",
   "execution_count": 68,
   "id": "d683ad55",
   "metadata": {},
   "outputs": [
    {
     "data": {
      "text/plain": [
       "doggo      74\n",
       "None     1920\n",
       "Name: doggo, dtype: int64"
      ]
     },
     "execution_count": 68,
     "metadata": {},
     "output_type": "execute_result"
    }
   ],
   "source": [
    "df_twe_1_copy['doggo'].value_counts().sort_values()"
   ]
  },
  {
   "cell_type": "code",
   "execution_count": 69,
   "id": "26aa7d76",
   "metadata": {},
   "outputs": [
    {
     "data": {
      "text/plain": [
       "floofer       8\n",
       "None       1986\n",
       "Name: floofer, dtype: int64"
      ]
     },
     "execution_count": 69,
     "metadata": {},
     "output_type": "execute_result"
    }
   ],
   "source": [
    "df_twe_1_copy['floofer'].value_counts().sort_values()"
   ]
  },
  {
   "cell_type": "code",
   "execution_count": 70,
   "id": "b07603e2",
   "metadata": {},
   "outputs": [
    {
     "data": {
      "text/plain": [
       "pupper     212\n",
       "None      1782\n",
       "Name: pupper, dtype: int64"
      ]
     },
     "execution_count": 70,
     "metadata": {},
     "output_type": "execute_result"
    }
   ],
   "source": [
    "df_twe_1_copy['pupper'].value_counts().sort_values()"
   ]
  },
  {
   "cell_type": "code",
   "execution_count": 71,
   "id": "8a44079c",
   "metadata": {},
   "outputs": [
    {
     "data": {
      "text/plain": [
       "puppo      23\n",
       "None     1971\n",
       "Name: puppo, dtype: int64"
      ]
     },
     "execution_count": 71,
     "metadata": {},
     "output_type": "execute_result"
    }
   ],
   "source": [
    "df_twe_1_copy['puppo'].value_counts().sort_values()"
   ]
  },
  {
   "cell_type": "markdown",
   "id": "a1e7d674",
   "metadata": {},
   "source": [
    "###### Thank you reviewer for this snippet of code "
   ]
  },
  {
   "cell_type": "code",
   "execution_count": 72,
   "id": "6acdcb9a",
   "metadata": {},
   "outputs": [],
   "source": [
    "# handle none\n",
    "df_twe_1_copy.doggo.replace('None', '', inplace=True)\n",
    "df_twe_1_copy.floofer.replace('None', '', inplace=True)\n",
    "df_twe_1_copy.pupper.replace('None', '', inplace=True)\n",
    "df_twe_1_copy.puppo.replace('None', '', inplace=True)\n",
    "\n",
    "# merge into column\n",
    "df_twe_1_copy['dog_stage'] = df_twe_1_copy.doggo + df_twe_1_copy.floofer + df_twe_1_copy.pupper + df_twe_1_copy.puppo\n",
    "\n",
    "# handle multiple stages\n",
    "df_twe_1_copy.loc[df_twe_1_copy.dog_stage == 'doggopupper', 'dog_stage'] = 'doggo, pupper'\n",
    "df_twe_1_copy.loc[df_twe_1_copy.dog_stage == 'doggopuppo', 'dog_stage'] = 'doggo, puppo'\n",
    "df_twe_1_copy.loc[df_twe_1_copy.dog_stage == 'doggofloofer', 'dog_stage'] = 'doggo, floofer'\n",
    "\n",
    "# handle missing values\n",
    "df_twe_1_copy.loc[df_twe_1_copy.dog_stage == '', 'dog_stage'] = np.nan"
   ]
  },
  {
   "cell_type": "code",
   "execution_count": 73,
   "id": "1538fafa",
   "metadata": {},
   "outputs": [
    {
     "data": {
      "text/plain": [
       "pupper            203\n",
       "doggo              63\n",
       "puppo              22\n",
       "doggo, pupper       9\n",
       "floofer             7\n",
       "doggo, puppo        1\n",
       "doggo, floofer      1\n",
       "Name: dog_stage, dtype: int64"
      ]
     },
     "execution_count": 73,
     "metadata": {},
     "output_type": "execute_result"
    }
   ],
   "source": [
    "#i didnt attempt to put dog's with multiple stages into multiple because i think it is better to know the actual stages of dog's with mutiple stages\n",
    "df_twe_1_copy['dog_stage'].value_counts()"
   ]
  },
  {
   "cell_type": "code",
   "execution_count": 74,
   "id": "2630d985",
   "metadata": {},
   "outputs": [
    {
     "name": "stdout",
     "output_type": "stream",
     "text": [
      "<class 'pandas.core.frame.DataFrame'>\n",
      "Int64Index: 1994 entries, 0 to 2355\n",
      "Data columns (total 18 columns):\n",
      " #   Column                      Non-Null Count  Dtype              \n",
      "---  ------                      --------------  -----              \n",
      " 0   tweet_id                    1994 non-null   int64              \n",
      " 1   in_reply_to_status_id       1994 non-null   object             \n",
      " 2   in_reply_to_user_id         1994 non-null   object             \n",
      " 3   timestamp                   1994 non-null   datetime64[ns, UTC]\n",
      " 4   source                      1994 non-null   object             \n",
      " 5   text                        1994 non-null   object             \n",
      " 6   retweeted_status_id         0 non-null      float64            \n",
      " 7   retweeted_status_user_id    0 non-null      float64            \n",
      " 8   retweeted_status_timestamp  0 non-null      object             \n",
      " 9   expanded_urls               1994 non-null   object             \n",
      " 10  rating_numerator            1994 non-null   float32            \n",
      " 11  rating_denominator          1994 non-null   float32            \n",
      " 12  name                        1994 non-null   object             \n",
      " 13  doggo                       1994 non-null   object             \n",
      " 14  floofer                     1994 non-null   object             \n",
      " 15  pupper                      1994 non-null   object             \n",
      " 16  puppo                       1994 non-null   object             \n",
      " 17  dog_stage                   306 non-null    object             \n",
      "dtypes: datetime64[ns, UTC](1), float32(2), float64(2), int64(1), object(12)\n",
      "memory usage: 280.4+ KB\n"
     ]
    }
   ],
   "source": [
    "df_twe_1_copy.info()"
   ]
  },
  {
   "cell_type": "code",
   "execution_count": 75,
   "id": "cf12dd24",
   "metadata": {},
   "outputs": [
    {
     "data": {
      "text/html": [
       "<div>\n",
       "<style scoped>\n",
       "    .dataframe tbody tr th:only-of-type {\n",
       "        vertical-align: middle;\n",
       "    }\n",
       "\n",
       "    .dataframe tbody tr th {\n",
       "        vertical-align: top;\n",
       "    }\n",
       "\n",
       "    .dataframe thead th {\n",
       "        text-align: right;\n",
       "    }\n",
       "</style>\n",
       "<table border=\"1\" class=\"dataframe\">\n",
       "  <thead>\n",
       "    <tr style=\"text-align: right;\">\n",
       "      <th></th>\n",
       "      <th>tweet_id</th>\n",
       "      <th>in_reply_to_status_id</th>\n",
       "      <th>in_reply_to_user_id</th>\n",
       "      <th>timestamp</th>\n",
       "      <th>source</th>\n",
       "      <th>text</th>\n",
       "      <th>retweeted_status_id</th>\n",
       "      <th>retweeted_status_user_id</th>\n",
       "      <th>retweeted_status_timestamp</th>\n",
       "      <th>expanded_urls</th>\n",
       "      <th>rating_numerator</th>\n",
       "      <th>rating_denominator</th>\n",
       "      <th>name</th>\n",
       "      <th>doggo</th>\n",
       "      <th>floofer</th>\n",
       "      <th>pupper</th>\n",
       "      <th>puppo</th>\n",
       "      <th>dog_stage</th>\n",
       "    </tr>\n",
       "  </thead>\n",
       "  <tbody>\n",
       "    <tr>\n",
       "      <th>209</th>\n",
       "      <td>852226086759018497</td>\n",
       "      <td>0.0</td>\n",
       "      <td>0.0</td>\n",
       "      <td>2017-04-12 18:25:07+00:00</td>\n",
       "      <td>Twitter Web Client</td>\n",
       "      <td>Meet General. He wasn't content with the quali...</td>\n",
       "      <td>NaN</td>\n",
       "      <td>NaN</td>\n",
       "      <td>NaN</td>\n",
       "      <td>https://twitter.com/dog_rates/status/852226086...</td>\n",
       "      <td>14.0</td>\n",
       "      <td>10.0</td>\n",
       "      <td>General</td>\n",
       "      <td></td>\n",
       "      <td></td>\n",
       "      <td></td>\n",
       "      <td></td>\n",
       "      <td>NaN</td>\n",
       "    </tr>\n",
       "  </tbody>\n",
       "</table>\n",
       "</div>"
      ],
      "text/plain": [
       "               tweet_id in_reply_to_status_id in_reply_to_user_id  \\\n",
       "209  852226086759018497                   0.0                 0.0   \n",
       "\n",
       "                    timestamp              source  \\\n",
       "209 2017-04-12 18:25:07+00:00  Twitter Web Client   \n",
       "\n",
       "                                                  text  retweeted_status_id  \\\n",
       "209  Meet General. He wasn't content with the quali...                  NaN   \n",
       "\n",
       "     retweeted_status_user_id retweeted_status_timestamp  \\\n",
       "209                       NaN                        NaN   \n",
       "\n",
       "                                         expanded_urls  rating_numerator  \\\n",
       "209  https://twitter.com/dog_rates/status/852226086...              14.0   \n",
       "\n",
       "     rating_denominator     name doggo floofer pupper puppo dog_stage  \n",
       "209                10.0  General                                  NaN  "
      ]
     },
     "execution_count": 75,
     "metadata": {},
     "output_type": "execute_result"
    }
   ],
   "source": [
    "df_twe_1_copy.sample()"
   ]
  },
  {
   "cell_type": "code",
   "execution_count": 76,
   "id": "de017aba",
   "metadata": {},
   "outputs": [
    {
     "data": {
      "text/plain": [
       "pupper            203\n",
       "doggo              63\n",
       "puppo              22\n",
       "doggo, pupper       9\n",
       "floofer             7\n",
       "doggo, puppo        1\n",
       "doggo, floofer      1\n",
       "Name: dog_stage, dtype: int64"
      ]
     },
     "execution_count": 76,
     "metadata": {},
     "output_type": "execute_result"
    }
   ],
   "source": [
    "df_twe_1_copy.dog_stage.value_counts()"
   ]
  },
  {
   "cell_type": "code",
   "execution_count": 77,
   "id": "ae61e7f1",
   "metadata": {},
   "outputs": [],
   "source": [
    "df_twe_1_copy.drop(columns=['doggo','floofer','pupper','puppo'],axis=1,inplace=True)"
   ]
  },
  {
   "cell_type": "code",
   "execution_count": 78,
   "id": "aa6d455a",
   "metadata": {},
   "outputs": [
    {
     "name": "stdout",
     "output_type": "stream",
     "text": [
      "<class 'pandas.core.frame.DataFrame'>\n",
      "Int64Index: 1994 entries, 0 to 2355\n",
      "Data columns (total 14 columns):\n",
      " #   Column                      Non-Null Count  Dtype              \n",
      "---  ------                      --------------  -----              \n",
      " 0   tweet_id                    1994 non-null   int64              \n",
      " 1   in_reply_to_status_id       1994 non-null   object             \n",
      " 2   in_reply_to_user_id         1994 non-null   object             \n",
      " 3   timestamp                   1994 non-null   datetime64[ns, UTC]\n",
      " 4   source                      1994 non-null   object             \n",
      " 5   text                        1994 non-null   object             \n",
      " 6   retweeted_status_id         0 non-null      float64            \n",
      " 7   retweeted_status_user_id    0 non-null      float64            \n",
      " 8   retweeted_status_timestamp  0 non-null      object             \n",
      " 9   expanded_urls               1994 non-null   object             \n",
      " 10  rating_numerator            1994 non-null   float32            \n",
      " 11  rating_denominator          1994 non-null   float32            \n",
      " 12  name                        1994 non-null   object             \n",
      " 13  dog_stage                   306 non-null    object             \n",
      "dtypes: datetime64[ns, UTC](1), float32(2), float64(2), int64(1), object(8)\n",
      "memory usage: 218.1+ KB\n"
     ]
    }
   ],
   "source": [
    "df_twe_1_copy.info()"
   ]
  },
  {
   "cell_type": "markdown",
   "id": "871a62b0",
   "metadata": {},
   "source": [
    "### Quality issue 7 - none string should be in nan format"
   ]
  },
  {
   "cell_type": "markdown",
   "id": "407b80e9",
   "metadata": {},
   "source": [
    "### solution - replace the none strings with np.nan"
   ]
  },
  {
   "cell_type": "code",
   "execution_count": 79,
   "id": "8baa034a",
   "metadata": {},
   "outputs": [],
   "source": [
    "df_twe_1_copy.replace('None',np.NaN,regex=True,inplace = True)"
   ]
  },
  {
   "cell_type": "code",
   "execution_count": 80,
   "id": "7e783019",
   "metadata": {},
   "outputs": [
    {
     "data": {
      "text/plain": [
       "644"
      ]
     },
     "execution_count": 80,
     "metadata": {},
     "output_type": "execute_result"
    }
   ],
   "source": [
    "len(df_twe_1_copy[df_twe_1_copy.name.isnull()])"
   ]
  },
  {
   "cell_type": "code",
   "execution_count": 81,
   "id": "bcd06845",
   "metadata": {},
   "outputs": [
    {
     "data": {
      "text/html": [
       "<div>\n",
       "<style scoped>\n",
       "    .dataframe tbody tr th:only-of-type {\n",
       "        vertical-align: middle;\n",
       "    }\n",
       "\n",
       "    .dataframe tbody tr th {\n",
       "        vertical-align: top;\n",
       "    }\n",
       "\n",
       "    .dataframe thead th {\n",
       "        text-align: right;\n",
       "    }\n",
       "</style>\n",
       "<table border=\"1\" class=\"dataframe\">\n",
       "  <thead>\n",
       "    <tr style=\"text-align: right;\">\n",
       "      <th></th>\n",
       "      <th>tweet_id</th>\n",
       "      <th>in_reply_to_status_id</th>\n",
       "      <th>in_reply_to_user_id</th>\n",
       "      <th>timestamp</th>\n",
       "      <th>source</th>\n",
       "      <th>text</th>\n",
       "      <th>retweeted_status_id</th>\n",
       "      <th>retweeted_status_user_id</th>\n",
       "      <th>retweeted_status_timestamp</th>\n",
       "      <th>expanded_urls</th>\n",
       "      <th>rating_numerator</th>\n",
       "      <th>rating_denominator</th>\n",
       "      <th>name</th>\n",
       "      <th>dog_stage</th>\n",
       "    </tr>\n",
       "  </thead>\n",
       "  <tbody>\n",
       "    <tr>\n",
       "      <th>1803</th>\n",
       "      <td>676948236477857792</td>\n",
       "      <td>0.0</td>\n",
       "      <td>0.0</td>\n",
       "      <td>2015-12-16 02:13:31+00:00</td>\n",
       "      <td>Twitter for iPhone</td>\n",
       "      <td>This is Karl. Karl thinks he's slick. 6/10 sne...</td>\n",
       "      <td>NaN</td>\n",
       "      <td>NaN</td>\n",
       "      <td>NaN</td>\n",
       "      <td>https://twitter.com/dog_rates/status/676948236...</td>\n",
       "      <td>6.0</td>\n",
       "      <td>10.0</td>\n",
       "      <td>Karl</td>\n",
       "      <td>NaN</td>\n",
       "    </tr>\n",
       "  </tbody>\n",
       "</table>\n",
       "</div>"
      ],
      "text/plain": [
       "                tweet_id in_reply_to_status_id in_reply_to_user_id  \\\n",
       "1803  676948236477857792                   0.0                 0.0   \n",
       "\n",
       "                     timestamp              source  \\\n",
       "1803 2015-12-16 02:13:31+00:00  Twitter for iPhone   \n",
       "\n",
       "                                                   text  retweeted_status_id  \\\n",
       "1803  This is Karl. Karl thinks he's slick. 6/10 sne...                  NaN   \n",
       "\n",
       "      retweeted_status_user_id retweeted_status_timestamp  \\\n",
       "1803                       NaN                        NaN   \n",
       "\n",
       "                                          expanded_urls  rating_numerator  \\\n",
       "1803  https://twitter.com/dog_rates/status/676948236...               6.0   \n",
       "\n",
       "      rating_denominator  name dog_stage  \n",
       "1803                10.0  Karl       NaN  "
      ]
     },
     "execution_count": 81,
     "metadata": {},
     "output_type": "execute_result"
    }
   ],
   "source": [
    "df_twe_1_copy.sample()"
   ]
  },
  {
   "cell_type": "markdown",
   "id": "dbf3e734",
   "metadata": {},
   "source": [
    "### Quality issue 9 - retweeted_status_id,retweeted_status_user_id,retweeted_status_timestamp will become empty after archive dataframe has dropped duplicates which will have to be dropped."
   ]
  },
  {
   "cell_type": "markdown",
   "id": "c467b355",
   "metadata": {},
   "source": [
    "### solution -- drop the three columns  from the dataframe"
   ]
  },
  {
   "cell_type": "code",
   "execution_count": 82,
   "id": "6f11ff5a",
   "metadata": {},
   "outputs": [],
   "source": [
    "df_twe_1_copy.drop(columns=['retweeted_status_id','retweeted_status_user_id','retweeted_status_timestamp'],axis = 1,inplace=True)"
   ]
  },
  {
   "cell_type": "code",
   "execution_count": 83,
   "id": "052461a5",
   "metadata": {},
   "outputs": [
    {
     "name": "stdout",
     "output_type": "stream",
     "text": [
      "<class 'pandas.core.frame.DataFrame'>\n",
      "Int64Index: 1994 entries, 0 to 2355\n",
      "Data columns (total 11 columns):\n",
      " #   Column                 Non-Null Count  Dtype              \n",
      "---  ------                 --------------  -----              \n",
      " 0   tweet_id               1994 non-null   int64              \n",
      " 1   in_reply_to_status_id  1994 non-null   object             \n",
      " 2   in_reply_to_user_id    1994 non-null   object             \n",
      " 3   timestamp              1994 non-null   datetime64[ns, UTC]\n",
      " 4   source                 1994 non-null   object             \n",
      " 5   text                   1992 non-null   object             \n",
      " 6   expanded_urls          1994 non-null   object             \n",
      " 7   rating_numerator       1994 non-null   float32            \n",
      " 8   rating_denominator     1994 non-null   float32            \n",
      " 9   name                   1350 non-null   object             \n",
      " 10  dog_stage              306 non-null    object             \n",
      "dtypes: datetime64[ns, UTC](1), float32(2), int64(1), object(7)\n",
      "memory usage: 171.4+ KB\n"
     ]
    }
   ],
   "source": [
    "df_twe_1_copy.info()"
   ]
  },
  {
   "cell_type": "markdown",
   "id": "753cb2e3",
   "metadata": {},
   "source": [
    "### Quality issue 10 - drop the rows with missing tweets and dog name"
   ]
  },
  {
   "cell_type": "code",
   "execution_count": 84,
   "id": "85818061",
   "metadata": {},
   "outputs": [
    {
     "data": {
      "text/html": [
       "<div>\n",
       "<style scoped>\n",
       "    .dataframe tbody tr th:only-of-type {\n",
       "        vertical-align: middle;\n",
       "    }\n",
       "\n",
       "    .dataframe tbody tr th {\n",
       "        vertical-align: top;\n",
       "    }\n",
       "\n",
       "    .dataframe thead th {\n",
       "        text-align: right;\n",
       "    }\n",
       "</style>\n",
       "<table border=\"1\" class=\"dataframe\">\n",
       "  <thead>\n",
       "    <tr style=\"text-align: right;\">\n",
       "      <th></th>\n",
       "      <th>tweet_id</th>\n",
       "      <th>in_reply_to_status_id</th>\n",
       "      <th>in_reply_to_user_id</th>\n",
       "      <th>timestamp</th>\n",
       "      <th>source</th>\n",
       "      <th>text</th>\n",
       "      <th>expanded_urls</th>\n",
       "      <th>rating_numerator</th>\n",
       "      <th>rating_denominator</th>\n",
       "      <th>name</th>\n",
       "      <th>dog_stage</th>\n",
       "    </tr>\n",
       "  </thead>\n",
       "  <tbody>\n",
       "    <tr>\n",
       "      <th>1274</th>\n",
       "      <td>709198395643068416</td>\n",
       "      <td>0.0</td>\n",
       "      <td>0.0</td>\n",
       "      <td>2016-03-14 02:04:08+00:00</td>\n",
       "      <td>Twitter for iPhone</td>\n",
       "      <td>NaN</td>\n",
       "      <td>https://twitter.com/dog_rates/status/709198395...</td>\n",
       "      <td>45.0</td>\n",
       "      <td>50.0</td>\n",
       "      <td>NaN</td>\n",
       "      <td>NaN</td>\n",
       "    </tr>\n",
       "    <tr>\n",
       "      <th>1583</th>\n",
       "      <td>687102708889812993</td>\n",
       "      <td>0.0</td>\n",
       "      <td>0.0</td>\n",
       "      <td>2016-01-13 02:43:46+00:00</td>\n",
       "      <td>Twitter for iPhone</td>\n",
       "      <td>NaN</td>\n",
       "      <td>https://twitter.com/dog_rates/status/687102708...</td>\n",
       "      <td>5.0</td>\n",
       "      <td>10.0</td>\n",
       "      <td>NaN</td>\n",
       "      <td>NaN</td>\n",
       "    </tr>\n",
       "  </tbody>\n",
       "</table>\n",
       "</div>"
      ],
      "text/plain": [
       "                tweet_id in_reply_to_status_id in_reply_to_user_id  \\\n",
       "1274  709198395643068416                   0.0                 0.0   \n",
       "1583  687102708889812993                   0.0                 0.0   \n",
       "\n",
       "                     timestamp              source text  \\\n",
       "1274 2016-03-14 02:04:08+00:00  Twitter for iPhone  NaN   \n",
       "1583 2016-01-13 02:43:46+00:00  Twitter for iPhone  NaN   \n",
       "\n",
       "                                          expanded_urls  rating_numerator  \\\n",
       "1274  https://twitter.com/dog_rates/status/709198395...              45.0   \n",
       "1583  https://twitter.com/dog_rates/status/687102708...               5.0   \n",
       "\n",
       "      rating_denominator name dog_stage  \n",
       "1274                50.0  NaN       NaN  \n",
       "1583                10.0  NaN       NaN  "
      ]
     },
     "execution_count": 84,
     "metadata": {},
     "output_type": "execute_result"
    }
   ],
   "source": [
    "df_twe_1_copy[df_twe_1_copy.text.isna()]  ##"
   ]
  },
  {
   "cell_type": "code",
   "execution_count": 85,
   "id": "cb086701",
   "metadata": {},
   "outputs": [],
   "source": [
    "df_twe_1_copy.dropna(subset=['text'],inplace=True)"
   ]
  },
  {
   "cell_type": "code",
   "execution_count": 86,
   "id": "c4ef1605",
   "metadata": {},
   "outputs": [
    {
     "name": "stdout",
     "output_type": "stream",
     "text": [
      "<class 'pandas.core.frame.DataFrame'>\n",
      "Int64Index: 1992 entries, 0 to 2355\n",
      "Data columns (total 11 columns):\n",
      " #   Column                 Non-Null Count  Dtype              \n",
      "---  ------                 --------------  -----              \n",
      " 0   tweet_id               1992 non-null   int64              \n",
      " 1   in_reply_to_status_id  1992 non-null   object             \n",
      " 2   in_reply_to_user_id    1992 non-null   object             \n",
      " 3   timestamp              1992 non-null   datetime64[ns, UTC]\n",
      " 4   source                 1992 non-null   object             \n",
      " 5   text                   1992 non-null   object             \n",
      " 6   expanded_urls          1992 non-null   object             \n",
      " 7   rating_numerator       1992 non-null   float32            \n",
      " 8   rating_denominator     1992 non-null   float32            \n",
      " 9   name                   1350 non-null   object             \n",
      " 10  dog_stage              306 non-null    object             \n",
      "dtypes: datetime64[ns, UTC](1), float32(2), int64(1), object(7)\n",
      "memory usage: 171.2+ KB\n"
     ]
    }
   ],
   "source": [
    "df_twe_1_copy.info()"
   ]
  },
  {
   "cell_type": "code",
   "execution_count": 87,
   "id": "17b615cd",
   "metadata": {
    "scrolled": true
   },
   "outputs": [
    {
     "data": {
      "text/html": [
       "<div>\n",
       "<style scoped>\n",
       "    .dataframe tbody tr th:only-of-type {\n",
       "        vertical-align: middle;\n",
       "    }\n",
       "\n",
       "    .dataframe tbody tr th {\n",
       "        vertical-align: top;\n",
       "    }\n",
       "\n",
       "    .dataframe thead th {\n",
       "        text-align: right;\n",
       "    }\n",
       "</style>\n",
       "<table border=\"1\" class=\"dataframe\">\n",
       "  <thead>\n",
       "    <tr style=\"text-align: right;\">\n",
       "      <th></th>\n",
       "      <th>tweet_id</th>\n",
       "      <th>in_reply_to_status_id</th>\n",
       "      <th>in_reply_to_user_id</th>\n",
       "      <th>timestamp</th>\n",
       "      <th>source</th>\n",
       "      <th>text</th>\n",
       "      <th>expanded_urls</th>\n",
       "      <th>rating_numerator</th>\n",
       "      <th>rating_denominator</th>\n",
       "      <th>name</th>\n",
       "      <th>dog_stage</th>\n",
       "    </tr>\n",
       "  </thead>\n",
       "  <tbody>\n",
       "    <tr>\n",
       "      <th>2125</th>\n",
       "      <td>670361874861563904</td>\n",
       "      <td>0.0</td>\n",
       "      <td>0.0</td>\n",
       "      <td>2015-11-27 22:01:40+00:00</td>\n",
       "      <td>Twitter for iPhone</td>\n",
       "      <td>This is a Rich Mahogany Seltzer named Cherokee...</td>\n",
       "      <td>https://twitter.com/dog_rates/status/670361874...</td>\n",
       "      <td>9.0</td>\n",
       "      <td>10.0</td>\n",
       "      <td>NaN</td>\n",
       "      <td>NaN</td>\n",
       "    </tr>\n",
       "  </tbody>\n",
       "</table>\n",
       "</div>"
      ],
      "text/plain": [
       "                tweet_id in_reply_to_status_id in_reply_to_user_id  \\\n",
       "2125  670361874861563904                   0.0                 0.0   \n",
       "\n",
       "                     timestamp              source  \\\n",
       "2125 2015-11-27 22:01:40+00:00  Twitter for iPhone   \n",
       "\n",
       "                                                   text  \\\n",
       "2125  This is a Rich Mahogany Seltzer named Cherokee...   \n",
       "\n",
       "                                          expanded_urls  rating_numerator  \\\n",
       "2125  https://twitter.com/dog_rates/status/670361874...               9.0   \n",
       "\n",
       "      rating_denominator name dog_stage  \n",
       "2125                10.0  NaN       NaN  "
      ]
     },
     "execution_count": 87,
     "metadata": {},
     "output_type": "execute_result"
    }
   ],
   "source": [
    "df_twe_1_copy.sample()"
   ]
  },
  {
   "cell_type": "markdown",
   "id": "72b7df58",
   "metadata": {},
   "source": [
    "### Tidiness issue 2 - The three datasets are part of the same observational unit and should be merged into one (dataset: twitter_archive_master.csv as instructed)"
   ]
  },
  {
   "cell_type": "code",
   "execution_count": 88,
   "id": "71d76fc1",
   "metadata": {},
   "outputs": [],
   "source": [
    "df_twe_rename = df_twe_3.copy()\n",
    "df_twe_rename.rename(columns={'id':'tweet_id'},inplace=True)\n",
    "df_merged = pd.merge(pd.merge(df_twe_1_copy,df_twe_2_copy,on='tweet_id'),df_twe_rename,on='tweet_id')"
   ]
  },
  {
   "cell_type": "code",
   "execution_count": 90,
   "id": "621575af",
   "metadata": {},
   "outputs": [
    {
     "name": "stdout",
     "output_type": "stream",
     "text": [
      "<class 'pandas.core.frame.DataFrame'>\n",
      "Int64Index: 1992 entries, 0 to 1991\n",
      "Data columns (total 24 columns):\n",
      " #   Column                 Non-Null Count  Dtype              \n",
      "---  ------                 --------------  -----              \n",
      " 0   tweet_id               1992 non-null   int64              \n",
      " 1   in_reply_to_status_id  1992 non-null   object             \n",
      " 2   in_reply_to_user_id    1992 non-null   object             \n",
      " 3   timestamp              1992 non-null   datetime64[ns, UTC]\n",
      " 4   source                 1992 non-null   object             \n",
      " 5   text                   1992 non-null   object             \n",
      " 6   expanded_urls          1992 non-null   object             \n",
      " 7   rating_numerator       1992 non-null   float32            \n",
      " 8   rating_denominator     1992 non-null   float32            \n",
      " 9   name                   1350 non-null   object             \n",
      " 10  dog_stage              306 non-null    object             \n",
      " 11  jpg_url                1992 non-null   object             \n",
      " 12  img_num                1992 non-null   int64              \n",
      " 13  p1                     1992 non-null   category           \n",
      " 14  p1_conf                1992 non-null   float64            \n",
      " 15  p1_dog                 1992 non-null   bool               \n",
      " 16  p2                     1992 non-null   category           \n",
      " 17  p2_conf                1992 non-null   float64            \n",
      " 18  p2_dog                 1992 non-null   bool               \n",
      " 19  p3                     1992 non-null   category           \n",
      " 20  p3_conf                1992 non-null   float64            \n",
      " 21  p3_dog                 1992 non-null   bool               \n",
      " 22  retweet_count          1992 non-null   int64              \n",
      " 23  favorite_count         1992 non-null   int64              \n",
      "dtypes: bool(3), category(3), datetime64[ns, UTC](1), float32(2), float64(3), int64(4), object(8)\n",
      "memory usage: 347.4+ KB\n"
     ]
    }
   ],
   "source": [
    "df_merged.info()"
   ]
  },
  {
   "cell_type": "code",
   "execution_count": 91,
   "id": "384a5229",
   "metadata": {},
   "outputs": [
    {
     "data": {
      "text/html": [
       "<div>\n",
       "<style scoped>\n",
       "    .dataframe tbody tr th:only-of-type {\n",
       "        vertical-align: middle;\n",
       "    }\n",
       "\n",
       "    .dataframe tbody tr th {\n",
       "        vertical-align: top;\n",
       "    }\n",
       "\n",
       "    .dataframe thead th {\n",
       "        text-align: right;\n",
       "    }\n",
       "</style>\n",
       "<table border=\"1\" class=\"dataframe\">\n",
       "  <thead>\n",
       "    <tr style=\"text-align: right;\">\n",
       "      <th></th>\n",
       "      <th>tweet_id</th>\n",
       "      <th>in_reply_to_status_id</th>\n",
       "      <th>in_reply_to_user_id</th>\n",
       "      <th>timestamp</th>\n",
       "      <th>source</th>\n",
       "      <th>text</th>\n",
       "      <th>expanded_urls</th>\n",
       "      <th>rating_numerator</th>\n",
       "      <th>rating_denominator</th>\n",
       "      <th>name</th>\n",
       "      <th>...</th>\n",
       "      <th>p1_conf</th>\n",
       "      <th>p1_dog</th>\n",
       "      <th>p2</th>\n",
       "      <th>p2_conf</th>\n",
       "      <th>p2_dog</th>\n",
       "      <th>p3</th>\n",
       "      <th>p3_conf</th>\n",
       "      <th>p3_dog</th>\n",
       "      <th>retweet_count</th>\n",
       "      <th>favorite_count</th>\n",
       "    </tr>\n",
       "  </thead>\n",
       "  <tbody>\n",
       "    <tr>\n",
       "      <th>1514</th>\n",
       "      <td>675349384339542016</td>\n",
       "      <td>6.749998076819087e+17</td>\n",
       "      <td>4196983835.0</td>\n",
       "      <td>2015-12-11 16:20:15+00:00</td>\n",
       "      <td>Twitter for iPhone</td>\n",
       "      <td>Yea I lied. Here's more. All 13/10 https://t.c...</td>\n",
       "      <td>https://twitter.com/dog_rates/status/675349384...</td>\n",
       "      <td>13.0</td>\n",
       "      <td>10.0</td>\n",
       "      <td>NaN</td>\n",
       "      <td>...</td>\n",
       "      <td>0.866367</td>\n",
       "      <td>True</td>\n",
       "      <td>Saluki</td>\n",
       "      <td>0.122079</td>\n",
       "      <td>True</td>\n",
       "      <td>Irish_wolfhound</td>\n",
       "      <td>0.00402</td>\n",
       "      <td>True</td>\n",
       "      <td>2532</td>\n",
       "      <td>4237</td>\n",
       "    </tr>\n",
       "  </tbody>\n",
       "</table>\n",
       "<p>1 rows × 24 columns</p>\n",
       "</div>"
      ],
      "text/plain": [
       "                tweet_id  in_reply_to_status_id in_reply_to_user_id  \\\n",
       "1514  675349384339542016  6.749998076819087e+17        4196983835.0   \n",
       "\n",
       "                     timestamp              source  \\\n",
       "1514 2015-12-11 16:20:15+00:00  Twitter for iPhone   \n",
       "\n",
       "                                                   text  \\\n",
       "1514  Yea I lied. Here's more. All 13/10 https://t.c...   \n",
       "\n",
       "                                          expanded_urls  rating_numerator  \\\n",
       "1514  https://twitter.com/dog_rates/status/675349384...              13.0   \n",
       "\n",
       "      rating_denominator name  ...   p1_conf p1_dog      p2   p2_conf  p2_dog  \\\n",
       "1514                10.0  NaN  ...  0.866367   True  Saluki  0.122079    True   \n",
       "\n",
       "                   p3  p3_conf  p3_dog  retweet_count favorite_count  \n",
       "1514  Irish_wolfhound  0.00402    True           2532           4237  \n",
       "\n",
       "[1 rows x 24 columns]"
      ]
     },
     "execution_count": 91,
     "metadata": {},
     "output_type": "execute_result"
    }
   ],
   "source": [
    "df_merged.sample()"
   ]
  },
  {
   "cell_type": "markdown",
   "id": "de145368",
   "metadata": {},
   "source": [
    "### Quality issue 11 -- tweet_id should be converted to object datatype(string)"
   ]
  },
  {
   "cell_type": "code",
   "execution_count": 92,
   "id": "2cc0c1db",
   "metadata": {},
   "outputs": [],
   "source": [
    "df_merged.tweet_id = df_merged.tweet_id.astype('object')"
   ]
  },
  {
   "cell_type": "code",
   "execution_count": 94,
   "id": "71a6a94c",
   "metadata": {},
   "outputs": [
    {
     "data": {
      "text/html": [
       "<div>\n",
       "<style scoped>\n",
       "    .dataframe tbody tr th:only-of-type {\n",
       "        vertical-align: middle;\n",
       "    }\n",
       "\n",
       "    .dataframe tbody tr th {\n",
       "        vertical-align: top;\n",
       "    }\n",
       "\n",
       "    .dataframe thead th {\n",
       "        text-align: right;\n",
       "    }\n",
       "</style>\n",
       "<table border=\"1\" class=\"dataframe\">\n",
       "  <thead>\n",
       "    <tr style=\"text-align: right;\">\n",
       "      <th></th>\n",
       "      <th>1671</th>\n",
       "    </tr>\n",
       "  </thead>\n",
       "  <tbody>\n",
       "    <tr>\n",
       "      <th>tweet_id</th>\n",
       "      <td>671866342182637568</td>\n",
       "    </tr>\n",
       "    <tr>\n",
       "      <th>in_reply_to_status_id</th>\n",
       "      <td>0.0</td>\n",
       "    </tr>\n",
       "    <tr>\n",
       "      <th>in_reply_to_user_id</th>\n",
       "      <td>0.0</td>\n",
       "    </tr>\n",
       "    <tr>\n",
       "      <th>timestamp</th>\n",
       "      <td>2015-12-02 01:39:53+00:00</td>\n",
       "    </tr>\n",
       "    <tr>\n",
       "      <th>source</th>\n",
       "      <td>Twitter for iPhone</td>\n",
       "    </tr>\n",
       "    <tr>\n",
       "      <th>text</th>\n",
       "      <td>Meet Dylan. He can use a fork but clearly can'...</td>\n",
       "    </tr>\n",
       "    <tr>\n",
       "      <th>expanded_urls</th>\n",
       "      <td>https://twitter.com/dog_rates/status/671866342...</td>\n",
       "    </tr>\n",
       "    <tr>\n",
       "      <th>rating_numerator</th>\n",
       "      <td>10.0</td>\n",
       "    </tr>\n",
       "    <tr>\n",
       "      <th>rating_denominator</th>\n",
       "      <td>10.0</td>\n",
       "    </tr>\n",
       "    <tr>\n",
       "      <th>name</th>\n",
       "      <td>Dylan</td>\n",
       "    </tr>\n",
       "    <tr>\n",
       "      <th>dog_stage</th>\n",
       "      <td>NaN</td>\n",
       "    </tr>\n",
       "    <tr>\n",
       "      <th>jpg_url</th>\n",
       "      <td>https://pbs.twimg.com/media/CVLy3zFWoAA93qJ.jpg</td>\n",
       "    </tr>\n",
       "    <tr>\n",
       "      <th>img_num</th>\n",
       "      <td>1</td>\n",
       "    </tr>\n",
       "    <tr>\n",
       "      <th>p1</th>\n",
       "      <td>Labrador_retriever</td>\n",
       "    </tr>\n",
       "    <tr>\n",
       "      <th>p1_conf</th>\n",
       "      <td>0.875614</td>\n",
       "    </tr>\n",
       "    <tr>\n",
       "      <th>p1_dog</th>\n",
       "      <td>True</td>\n",
       "    </tr>\n",
       "    <tr>\n",
       "      <th>p2</th>\n",
       "      <td>Chihuahua</td>\n",
       "    </tr>\n",
       "    <tr>\n",
       "      <th>p2_conf</th>\n",
       "      <td>0.032182</td>\n",
       "    </tr>\n",
       "    <tr>\n",
       "      <th>p2_dog</th>\n",
       "      <td>True</td>\n",
       "    </tr>\n",
       "    <tr>\n",
       "      <th>p3</th>\n",
       "      <td>golden_retriever</td>\n",
       "    </tr>\n",
       "    <tr>\n",
       "      <th>p3_conf</th>\n",
       "      <td>0.017232</td>\n",
       "    </tr>\n",
       "    <tr>\n",
       "      <th>p3_dog</th>\n",
       "      <td>True</td>\n",
       "    </tr>\n",
       "    <tr>\n",
       "      <th>retweet_count</th>\n",
       "      <td>548</td>\n",
       "    </tr>\n",
       "    <tr>\n",
       "      <th>favorite_count</th>\n",
       "      <td>1191</td>\n",
       "    </tr>\n",
       "  </tbody>\n",
       "</table>\n",
       "</div>"
      ],
      "text/plain": [
       "                                                                    1671\n",
       "tweet_id                                              671866342182637568\n",
       "in_reply_to_status_id                                                0.0\n",
       "in_reply_to_user_id                                                  0.0\n",
       "timestamp                                      2015-12-02 01:39:53+00:00\n",
       "source                                                Twitter for iPhone\n",
       "text                   Meet Dylan. He can use a fork but clearly can'...\n",
       "expanded_urls          https://twitter.com/dog_rates/status/671866342...\n",
       "rating_numerator                                                    10.0\n",
       "rating_denominator                                                  10.0\n",
       "name                                                               Dylan\n",
       "dog_stage                                                            NaN\n",
       "jpg_url                  https://pbs.twimg.com/media/CVLy3zFWoAA93qJ.jpg\n",
       "img_num                                                                1\n",
       "p1                                                    Labrador_retriever\n",
       "p1_conf                                                         0.875614\n",
       "p1_dog                                                              True\n",
       "p2                                                             Chihuahua\n",
       "p2_conf                                                         0.032182\n",
       "p2_dog                                                              True\n",
       "p3                                                      golden_retriever\n",
       "p3_conf                                                         0.017232\n",
       "p3_dog                                                              True\n",
       "retweet_count                                                        548\n",
       "favorite_count                                                      1191"
      ]
     },
     "execution_count": 94,
     "metadata": {},
     "output_type": "execute_result"
    }
   ],
   "source": [
    "df_merged.sample().T"
   ]
  },
  {
   "cell_type": "markdown",
   "id": "c6fa7bab",
   "metadata": {},
   "source": [
    "## Store data"
   ]
  },
  {
   "cell_type": "code",
   "execution_count": 95,
   "id": "d75345f1",
   "metadata": {},
   "outputs": [],
   "source": [
    "df_merged.to_csv('twitter_archive_master.csv', encoding='utf-8', index = False)"
   ]
  },
  {
   "cell_type": "markdown",
   "id": "6618b671",
   "metadata": {},
   "source": [
    "## Analyze and visualize data"
   ]
  },
  {
   "cell_type": "markdown",
   "id": "534f0a6e",
   "metadata": {},
   "source": [
    "##### create a column called breed generated from the image prediction dataset"
   ]
  },
  {
   "cell_type": "code",
   "execution_count": 96,
   "id": "67883fc1",
   "metadata": {},
   "outputs": [],
   "source": [
    "df_analysis = df_merged.copy()\n",
    "crit = [(df_analysis['p1_dog'] == True),(df_analysis['p2_dog'] == True),(df_analysis['p3_dog'] == True)]\n",
    "brd = [df_analysis['p1'],df_analysis['p2'],df_analysis['p3']]\n",
    "df_analysis['breed'] = np.select(crit,brd,default='none')"
   ]
  },
  {
   "cell_type": "code",
   "execution_count": 97,
   "id": "55a953d0",
   "metadata": {},
   "outputs": [
    {
     "data": {
      "text/html": [
       "<div>\n",
       "<style scoped>\n",
       "    .dataframe tbody tr th:only-of-type {\n",
       "        vertical-align: middle;\n",
       "    }\n",
       "\n",
       "    .dataframe tbody tr th {\n",
       "        vertical-align: top;\n",
       "    }\n",
       "\n",
       "    .dataframe thead th {\n",
       "        text-align: right;\n",
       "    }\n",
       "</style>\n",
       "<table border=\"1\" class=\"dataframe\">\n",
       "  <thead>\n",
       "    <tr style=\"text-align: right;\">\n",
       "      <th></th>\n",
       "      <th>1845</th>\n",
       "    </tr>\n",
       "  </thead>\n",
       "  <tbody>\n",
       "    <tr>\n",
       "      <th>tweet_id</th>\n",
       "      <td>668633411083464705</td>\n",
       "    </tr>\n",
       "    <tr>\n",
       "      <th>in_reply_to_status_id</th>\n",
       "      <td>0.0</td>\n",
       "    </tr>\n",
       "    <tr>\n",
       "      <th>in_reply_to_user_id</th>\n",
       "      <td>0.0</td>\n",
       "    </tr>\n",
       "    <tr>\n",
       "      <th>timestamp</th>\n",
       "      <td>2015-11-23 03:33:22+00:00</td>\n",
       "    </tr>\n",
       "    <tr>\n",
       "      <th>source</th>\n",
       "      <td>Twitter for iPhone</td>\n",
       "    </tr>\n",
       "    <tr>\n",
       "      <th>text</th>\n",
       "      <td>This is Churlie. He likes bagels. 10/10 https:...</td>\n",
       "    </tr>\n",
       "    <tr>\n",
       "      <th>expanded_urls</th>\n",
       "      <td>https://twitter.com/dog_rates/status/668633411...</td>\n",
       "    </tr>\n",
       "    <tr>\n",
       "      <th>rating_numerator</th>\n",
       "      <td>10.0</td>\n",
       "    </tr>\n",
       "    <tr>\n",
       "      <th>rating_denominator</th>\n",
       "      <td>10.0</td>\n",
       "    </tr>\n",
       "    <tr>\n",
       "      <th>name</th>\n",
       "      <td>Churlie</td>\n",
       "    </tr>\n",
       "    <tr>\n",
       "      <th>dog_stage</th>\n",
       "      <td>NaN</td>\n",
       "    </tr>\n",
       "    <tr>\n",
       "      <th>jpg_url</th>\n",
       "      <td>https://pbs.twimg.com/media/CUd2ieCUcAAexyT.jpg</td>\n",
       "    </tr>\n",
       "    <tr>\n",
       "      <th>img_num</th>\n",
       "      <td>1</td>\n",
       "    </tr>\n",
       "    <tr>\n",
       "      <th>p1</th>\n",
       "      <td>Pekinese</td>\n",
       "    </tr>\n",
       "    <tr>\n",
       "      <th>p1_conf</th>\n",
       "      <td>0.589011</td>\n",
       "    </tr>\n",
       "    <tr>\n",
       "      <th>p1_dog</th>\n",
       "      <td>True</td>\n",
       "    </tr>\n",
       "    <tr>\n",
       "      <th>p2</th>\n",
       "      <td>Shih-Tzu</td>\n",
       "    </tr>\n",
       "    <tr>\n",
       "      <th>p2_conf</th>\n",
       "      <td>0.390987</td>\n",
       "    </tr>\n",
       "    <tr>\n",
       "      <th>p2_dog</th>\n",
       "      <td>True</td>\n",
       "    </tr>\n",
       "    <tr>\n",
       "      <th>p3</th>\n",
       "      <td>Japanese_spaniel</td>\n",
       "    </tr>\n",
       "    <tr>\n",
       "      <th>p3_conf</th>\n",
       "      <td>0.00331</td>\n",
       "    </tr>\n",
       "    <tr>\n",
       "      <th>p3_dog</th>\n",
       "      <td>True</td>\n",
       "    </tr>\n",
       "    <tr>\n",
       "      <th>retweet_count</th>\n",
       "      <td>1788</td>\n",
       "    </tr>\n",
       "    <tr>\n",
       "      <th>favorite_count</th>\n",
       "      <td>3024</td>\n",
       "    </tr>\n",
       "    <tr>\n",
       "      <th>breed</th>\n",
       "      <td>Pekinese</td>\n",
       "    </tr>\n",
       "  </tbody>\n",
       "</table>\n",
       "</div>"
      ],
      "text/plain": [
       "                                                                    1845\n",
       "tweet_id                                              668633411083464705\n",
       "in_reply_to_status_id                                                0.0\n",
       "in_reply_to_user_id                                                  0.0\n",
       "timestamp                                      2015-11-23 03:33:22+00:00\n",
       "source                                                Twitter for iPhone\n",
       "text                   This is Churlie. He likes bagels. 10/10 https:...\n",
       "expanded_urls          https://twitter.com/dog_rates/status/668633411...\n",
       "rating_numerator                                                    10.0\n",
       "rating_denominator                                                  10.0\n",
       "name                                                             Churlie\n",
       "dog_stage                                                            NaN\n",
       "jpg_url                  https://pbs.twimg.com/media/CUd2ieCUcAAexyT.jpg\n",
       "img_num                                                                1\n",
       "p1                                                              Pekinese\n",
       "p1_conf                                                         0.589011\n",
       "p1_dog                                                              True\n",
       "p2                                                              Shih-Tzu\n",
       "p2_conf                                                         0.390987\n",
       "p2_dog                                                              True\n",
       "p3                                                      Japanese_spaniel\n",
       "p3_conf                                                          0.00331\n",
       "p3_dog                                                              True\n",
       "retweet_count                                                       1788\n",
       "favorite_count                                                      3024\n",
       "breed                                                           Pekinese"
      ]
     },
     "execution_count": 97,
     "metadata": {},
     "output_type": "execute_result"
    }
   ],
   "source": [
    "df_analysis.sample().T"
   ]
  },
  {
   "cell_type": "code",
   "execution_count": 98,
   "id": "a5765d58",
   "metadata": {},
   "outputs": [
    {
     "name": "stdout",
     "output_type": "stream",
     "text": [
      "<class 'pandas.core.frame.DataFrame'>\n",
      "Int64Index: 1992 entries, 0 to 1991\n",
      "Data columns (total 25 columns):\n",
      " #   Column                 Non-Null Count  Dtype              \n",
      "---  ------                 --------------  -----              \n",
      " 0   tweet_id               1992 non-null   object             \n",
      " 1   in_reply_to_status_id  1992 non-null   object             \n",
      " 2   in_reply_to_user_id    1992 non-null   object             \n",
      " 3   timestamp              1992 non-null   datetime64[ns, UTC]\n",
      " 4   source                 1992 non-null   object             \n",
      " 5   text                   1992 non-null   object             \n",
      " 6   expanded_urls          1992 non-null   object             \n",
      " 7   rating_numerator       1992 non-null   float32            \n",
      " 8   rating_denominator     1992 non-null   float32            \n",
      " 9   name                   1350 non-null   object             \n",
      " 10  dog_stage              306 non-null    object             \n",
      " 11  jpg_url                1992 non-null   object             \n",
      " 12  img_num                1992 non-null   int64              \n",
      " 13  p1                     1992 non-null   category           \n",
      " 14  p1_conf                1992 non-null   float64            \n",
      " 15  p1_dog                 1992 non-null   bool               \n",
      " 16  p2                     1992 non-null   category           \n",
      " 17  p2_conf                1992 non-null   float64            \n",
      " 18  p2_dog                 1992 non-null   bool               \n",
      " 19  p3                     1992 non-null   category           \n",
      " 20  p3_conf                1992 non-null   float64            \n",
      " 21  p3_dog                 1992 non-null   bool               \n",
      " 22  retweet_count          1992 non-null   int64              \n",
      " 23  favorite_count         1992 non-null   int64              \n",
      " 24  breed                  1992 non-null   object             \n",
      "dtypes: bool(3), category(3), datetime64[ns, UTC](1), float32(2), float64(3), int64(3), object(10)\n",
      "memory usage: 362.9+ KB\n"
     ]
    }
   ],
   "source": [
    "df_analysis.info()"
   ]
  },
  {
   "cell_type": "markdown",
   "id": "ec943827",
   "metadata": {},
   "source": [
    "### most used we rate dog's tweeter source"
   ]
  },
  {
   "cell_type": "code",
   "execution_count": 99,
   "id": "1bf2c106",
   "metadata": {},
   "outputs": [
    {
     "data": {
      "image/png": "[encoded data removed]",
      "text/plain": [
       "<Figure size 864x360 with 1 Axes>"
      ]
     },
     "metadata": {},
     "output_type": "display_data"
    }
   ],
   "source": [
    "plt.figure(figsize = (12,5))\n",
    "df_analysis.source.value_counts().plot(kind = 'barh',color = 'blue')\n",
    "plt.xlabel('Number of source')\n",
    "plt.ylabel('Source name')\n",
    "plt.title('Twitter source most used',fontdict={'size':13,'weight':'bold'})\n",
    "plt.savefig('twitter source')"
   ]
  },
  {
   "cell_type": "code",
   "execution_count": 100,
   "id": "1f7b0b81",
   "metadata": {},
   "outputs": [
    {
     "data": {
      "text/plain": [
       "Twitter for iPhone    1953\n",
       "Twitter Web Client      28\n",
       "TweetDeck               11\n",
       "Name: source, dtype: int64"
      ]
     },
     "execution_count": 100,
     "metadata": {},
     "output_type": "execute_result"
    }
   ],
   "source": [
    "df_analysis.source.value_counts()"
   ]
  },
  {
   "cell_type": "markdown",
   "id": "23b0e75b",
   "metadata": {},
   "source": [
    " ### Twitter for iPhone has the highest tweet count"
   ]
  },
  {
   "cell_type": "markdown",
   "id": "f80d0058",
   "metadata": {},
   "source": [
    "### Dog's with most name"
   ]
  },
  {
   "cell_type": "code",
   "execution_count": 101,
   "id": "8cd3834a",
   "metadata": {},
   "outputs": [
    {
     "data": {
      "text/plain": [
       "Charlie       11\n",
       "Cooper        10\n",
       "Lucy          10\n",
       "Oliver        10\n",
       "Penny          9\n",
       "              ..\n",
       "Leela          1\n",
       "Glenn          1\n",
       "Shelby         1\n",
       "Sephie         1\n",
       "Christoper     1\n",
       "Name: name, Length: 913, dtype: int64"
      ]
     },
     "execution_count": 101,
     "metadata": {},
     "output_type": "execute_result"
    }
   ],
   "source": [
    "df_analysis.name.value_counts()"
   ]
  },
  {
   "cell_type": "markdown",
   "id": "b0240538",
   "metadata": {},
   "source": [
    "#### Top 20 dog_names in we rate dogs"
   ]
  },
  {
   "cell_type": "code",
   "execution_count": 102,
   "id": "6c125ad6",
   "metadata": {
    "scrolled": false
   },
   "outputs": [
    {
     "data": {
      "image/png": "[encoded data removed]",
      "text/plain": [
       "<Figure size 1080x648 with 1 Axes>"
      ]
     },
     "metadata": {},
     "output_type": "display_data"
    }
   ],
   "source": [
    "plt.subplots(figsize = (15,9))\n",
    "df_analysis.name.value_counts().sort_values(ascending=False)[:20].plot(kind = 'barh',color = 'blue')\n",
    "plt.xlabel('Number of occurence',fontdict={'size':13,'weight':'bold'})\n",
    "plt.ylabel('Name of dog',fontdict={'size':13,'weight':'bold'});\n",
    "plt.title('Top 20 most frequent dog names',fontdict={'size':13,'weight':'bold'})\n",
    "plt.savefig('frequent dog names')"
   ]
  },
  {
   "cell_type": "code",
   "execution_count": 103,
   "id": "4ba107c4",
   "metadata": {},
   "outputs": [
    {
     "data": {
      "text/html": [
       "<div>\n",
       "<style scoped>\n",
       "    .dataframe tbody tr th:only-of-type {\n",
       "        vertical-align: middle;\n",
       "    }\n",
       "\n",
       "    .dataframe tbody tr th {\n",
       "        vertical-align: top;\n",
       "    }\n",
       "\n",
       "    .dataframe thead th {\n",
       "        text-align: right;\n",
       "    }\n",
       "</style>\n",
       "<table border=\"1\" class=\"dataframe\">\n",
       "  <thead>\n",
       "    <tr style=\"text-align: right;\">\n",
       "      <th></th>\n",
       "      <th>tweet_id</th>\n",
       "      <th>in_reply_to_status_id</th>\n",
       "      <th>in_reply_to_user_id</th>\n",
       "      <th>timestamp</th>\n",
       "      <th>source</th>\n",
       "      <th>text</th>\n",
       "      <th>expanded_urls</th>\n",
       "      <th>rating_numerator</th>\n",
       "      <th>rating_denominator</th>\n",
       "      <th>name</th>\n",
       "      <th>...</th>\n",
       "      <th>p1_dog</th>\n",
       "      <th>p2</th>\n",
       "      <th>p2_conf</th>\n",
       "      <th>p2_dog</th>\n",
       "      <th>p3</th>\n",
       "      <th>p3_conf</th>\n",
       "      <th>p3_dog</th>\n",
       "      <th>retweet_count</th>\n",
       "      <th>favorite_count</th>\n",
       "      <th>breed</th>\n",
       "    </tr>\n",
       "  </thead>\n",
       "  <tbody>\n",
       "    <tr>\n",
       "      <th>195</th>\n",
       "      <td>844580511645339650</td>\n",
       "      <td>0.0</td>\n",
       "      <td>0.0</td>\n",
       "      <td>2017-03-22 16:04:20+00:00</td>\n",
       "      <td>Twitter for iPhone</td>\n",
       "      <td>This is Charlie. He wants to know if you have ...</td>\n",
       "      <td>https://twitter.com/dog_rates/status/844580511...</td>\n",
       "      <td>11.0</td>\n",
       "      <td>10.0</td>\n",
       "      <td>Charlie</td>\n",
       "      <td>...</td>\n",
       "      <td>False</td>\n",
       "      <td>dishwasher</td>\n",
       "      <td>0.032489</td>\n",
       "      <td>False</td>\n",
       "      <td>printer</td>\n",
       "      <td>0.016456</td>\n",
       "      <td>False</td>\n",
       "      <td>3533</td>\n",
       "      <td>17871</td>\n",
       "      <td>none</td>\n",
       "    </tr>\n",
       "    <tr>\n",
       "      <th>200</th>\n",
       "      <td>842846295480000512</td>\n",
       "      <td>0.0</td>\n",
       "      <td>0.0</td>\n",
       "      <td>2017-03-17 21:13:10+00:00</td>\n",
       "      <td>Twitter for iPhone</td>\n",
       "      <td>This is Charlie. He's wishing you a very fun a...</td>\n",
       "      <td>https://twitter.com/dog_rates/status/842846295...</td>\n",
       "      <td>13.0</td>\n",
       "      <td>10.0</td>\n",
       "      <td>Charlie</td>\n",
       "      <td>...</td>\n",
       "      <td>True</td>\n",
       "      <td>golden_retriever</td>\n",
       "      <td>0.154946</td>\n",
       "      <td>True</td>\n",
       "      <td>Chihuahua</td>\n",
       "      <td>0.110249</td>\n",
       "      <td>True</td>\n",
       "      <td>4023</td>\n",
       "      <td>16440</td>\n",
       "      <td>Labrador_retriever</td>\n",
       "    </tr>\n",
       "    <tr>\n",
       "      <th>244</th>\n",
       "      <td>833826103416520705</td>\n",
       "      <td>0.0</td>\n",
       "      <td>0.0</td>\n",
       "      <td>2017-02-20 23:50:09+00:00</td>\n",
       "      <td>Twitter for iPhone</td>\n",
       "      <td>Meet Charlie. She asked u to change the channe...</td>\n",
       "      <td>https://twitter.com/dog_rates/status/833826103...</td>\n",
       "      <td>13.0</td>\n",
       "      <td>10.0</td>\n",
       "      <td>Charlie</td>\n",
       "      <td>...</td>\n",
       "      <td>True</td>\n",
       "      <td>kelpie</td>\n",
       "      <td>0.149706</td>\n",
       "      <td>True</td>\n",
       "      <td>Pembroke</td>\n",
       "      <td>0.096480</td>\n",
       "      <td>True</td>\n",
       "      <td>3904</td>\n",
       "      <td>16728</td>\n",
       "      <td>Chihuahua</td>\n",
       "    </tr>\n",
       "    <tr>\n",
       "      <th>252</th>\n",
       "      <td>832369877331693569</td>\n",
       "      <td>0.0</td>\n",
       "      <td>0.0</td>\n",
       "      <td>2017-02-16 23:23:38+00:00</td>\n",
       "      <td>Twitter for iPhone</td>\n",
       "      <td>This is Charlie. He fell asleep on a heating v...</td>\n",
       "      <td>https://twitter.com/dog_rates/status/832369877...</td>\n",
       "      <td>11.0</td>\n",
       "      <td>10.0</td>\n",
       "      <td>Charlie</td>\n",
       "      <td>...</td>\n",
       "      <td>True</td>\n",
       "      <td>German_short-haired_pointer</td>\n",
       "      <td>0.105208</td>\n",
       "      <td>True</td>\n",
       "      <td>Staffordshire_bullterrier</td>\n",
       "      <td>0.054338</td>\n",
       "      <td>True</td>\n",
       "      <td>3652</td>\n",
       "      <td>18792</td>\n",
       "      <td>kelpie</td>\n",
       "    </tr>\n",
       "    <tr>\n",
       "      <th>287</th>\n",
       "      <td>827199976799354881</td>\n",
       "      <td>0.0</td>\n",
       "      <td>0.0</td>\n",
       "      <td>2017-02-02 17:00:17+00:00</td>\n",
       "      <td>Twitter for iPhone</td>\n",
       "      <td>This is Charlie. He wins every game of chess h...</td>\n",
       "      <td>https://twitter.com/dog_rates/status/827199976...</td>\n",
       "      <td>13.0</td>\n",
       "      <td>10.0</td>\n",
       "      <td>Charlie</td>\n",
       "      <td>...</td>\n",
       "      <td>True</td>\n",
       "      <td>American_Staffordshire_terrier</td>\n",
       "      <td>0.026658</td>\n",
       "      <td>True</td>\n",
       "      <td>boxer</td>\n",
       "      <td>0.019866</td>\n",
       "      <td>True</td>\n",
       "      <td>2579</td>\n",
       "      <td>11659</td>\n",
       "      <td>Great_Dane</td>\n",
       "    </tr>\n",
       "    <tr>\n",
       "      <th>592</th>\n",
       "      <td>771102124360998913</td>\n",
       "      <td>0.0</td>\n",
       "      <td>0.0</td>\n",
       "      <td>2016-08-31 21:47:27+00:00</td>\n",
       "      <td>Twitter for iPhone</td>\n",
       "      <td>This is Charlie. He works for @TODAYshow. Supe...</td>\n",
       "      <td>https://twitter.com/dog_rates/status/771102124...</td>\n",
       "      <td>12.0</td>\n",
       "      <td>10.0</td>\n",
       "      <td>Charlie</td>\n",
       "      <td>...</td>\n",
       "      <td>True</td>\n",
       "      <td>pug</td>\n",
       "      <td>0.179918</td>\n",
       "      <td>True</td>\n",
       "      <td>Staffordshire_bullterrier</td>\n",
       "      <td>0.034437</td>\n",
       "      <td>True</td>\n",
       "      <td>1663</td>\n",
       "      <td>6898</td>\n",
       "      <td>Labrador_retriever</td>\n",
       "    </tr>\n",
       "    <tr>\n",
       "      <th>688</th>\n",
       "      <td>754011816964026368</td>\n",
       "      <td>0.0</td>\n",
       "      <td>0.0</td>\n",
       "      <td>2016-07-15 17:56:40+00:00</td>\n",
       "      <td>Twitter for iPhone</td>\n",
       "      <td>This is Charlie. He pouts until he gets to go ...</td>\n",
       "      <td>https://twitter.com/dog_rates/status/754011816...</td>\n",
       "      <td>12.0</td>\n",
       "      <td>10.0</td>\n",
       "      <td>Charlie</td>\n",
       "      <td>...</td>\n",
       "      <td>True</td>\n",
       "      <td>Boston_bull</td>\n",
       "      <td>0.273176</td>\n",
       "      <td>True</td>\n",
       "      <td>boxer</td>\n",
       "      <td>0.056772</td>\n",
       "      <td>True</td>\n",
       "      <td>4079</td>\n",
       "      <td>9726</td>\n",
       "      <td>French_bulldog</td>\n",
       "    </tr>\n",
       "    <tr>\n",
       "      <th>1060</th>\n",
       "      <td>703382836347330562</td>\n",
       "      <td>0.0</td>\n",
       "      <td>0.0</td>\n",
       "      <td>2016-02-27 00:55:11+00:00</td>\n",
       "      <td>Twitter for iPhone</td>\n",
       "      <td>This is Charlie. He's a West Side Niddlewog. M...</td>\n",
       "      <td>https://twitter.com/dog_rates/status/703382836...</td>\n",
       "      <td>12.0</td>\n",
       "      <td>10.0</td>\n",
       "      <td>Charlie</td>\n",
       "      <td>...</td>\n",
       "      <td>True</td>\n",
       "      <td>standard_poodle</td>\n",
       "      <td>0.014392</td>\n",
       "      <td>True</td>\n",
       "      <td>Tibetan_mastiff</td>\n",
       "      <td>0.012022</td>\n",
       "      <td>True</td>\n",
       "      <td>1285</td>\n",
       "      <td>3837</td>\n",
       "      <td>golden_retriever</td>\n",
       "    </tr>\n",
       "    <tr>\n",
       "      <th>1132</th>\n",
       "      <td>697255105972801536</td>\n",
       "      <td>0.0</td>\n",
       "      <td>0.0</td>\n",
       "      <td>2016-02-10 03:05:46+00:00</td>\n",
       "      <td>Twitter for iPhone</td>\n",
       "      <td>Meet Charlie. He likes to kiss all the big mil...</td>\n",
       "      <td>https://twitter.com/dog_rates/status/697255105...</td>\n",
       "      <td>10.0</td>\n",
       "      <td>10.0</td>\n",
       "      <td>Charlie</td>\n",
       "      <td>...</td>\n",
       "      <td>True</td>\n",
       "      <td>malinois</td>\n",
       "      <td>0.165888</td>\n",
       "      <td>True</td>\n",
       "      <td>Doberman</td>\n",
       "      <td>0.119890</td>\n",
       "      <td>True</td>\n",
       "      <td>1315</td>\n",
       "      <td>3316</td>\n",
       "      <td>Great_Dane</td>\n",
       "    </tr>\n",
       "    <tr>\n",
       "      <th>1344</th>\n",
       "      <td>681891461017812993</td>\n",
       "      <td>0.0</td>\n",
       "      <td>0.0</td>\n",
       "      <td>2015-12-29 17:36:07+00:00</td>\n",
       "      <td>Twitter for iPhone</td>\n",
       "      <td>Say hello to Charlie. He's scholarly af. Quite...</td>\n",
       "      <td>https://twitter.com/dog_rates/status/681891461...</td>\n",
       "      <td>10.0</td>\n",
       "      <td>10.0</td>\n",
       "      <td>Charlie</td>\n",
       "      <td>...</td>\n",
       "      <td>True</td>\n",
       "      <td>doormat</td>\n",
       "      <td>0.134316</td>\n",
       "      <td>False</td>\n",
       "      <td>toy_terrier</td>\n",
       "      <td>0.084482</td>\n",
       "      <td>True</td>\n",
       "      <td>951</td>\n",
       "      <td>2706</td>\n",
       "      <td>Chihuahua</td>\n",
       "    </tr>\n",
       "    <tr>\n",
       "      <th>1691</th>\n",
       "      <td>671504605491109889</td>\n",
       "      <td>0.0</td>\n",
       "      <td>0.0</td>\n",
       "      <td>2015-12-01 01:42:28+00:00</td>\n",
       "      <td>Twitter for iPhone</td>\n",
       "      <td>This is Charlie. He was just informed that dog...</td>\n",
       "      <td>https://twitter.com/dog_rates/status/671504605...</td>\n",
       "      <td>11.0</td>\n",
       "      <td>10.0</td>\n",
       "      <td>Charlie</td>\n",
       "      <td>...</td>\n",
       "      <td>True</td>\n",
       "      <td>bath_towel</td>\n",
       "      <td>0.177669</td>\n",
       "      <td>False</td>\n",
       "      <td>Maltese_dog</td>\n",
       "      <td>0.071712</td>\n",
       "      <td>True</td>\n",
       "      <td>3866</td>\n",
       "      <td>7495</td>\n",
       "      <td>toy_poodle</td>\n",
       "    </tr>\n",
       "  </tbody>\n",
       "</table>\n",
       "<p>11 rows × 25 columns</p>\n",
       "</div>"
      ],
      "text/plain": [
       "                tweet_id in_reply_to_status_id in_reply_to_user_id  \\\n",
       "195   844580511645339650                   0.0                 0.0   \n",
       "200   842846295480000512                   0.0                 0.0   \n",
       "244   833826103416520705                   0.0                 0.0   \n",
       "252   832369877331693569                   0.0                 0.0   \n",
       "287   827199976799354881                   0.0                 0.0   \n",
       "592   771102124360998913                   0.0                 0.0   \n",
       "688   754011816964026368                   0.0                 0.0   \n",
       "1060  703382836347330562                   0.0                 0.0   \n",
       "1132  697255105972801536                   0.0                 0.0   \n",
       "1344  681891461017812993                   0.0                 0.0   \n",
       "1691  671504605491109889                   0.0                 0.0   \n",
       "\n",
       "                     timestamp              source  \\\n",
       "195  2017-03-22 16:04:20+00:00  Twitter for iPhone   \n",
       "200  2017-03-17 21:13:10+00:00  Twitter for iPhone   \n",
       "244  2017-02-20 23:50:09+00:00  Twitter for iPhone   \n",
       "252  2017-02-16 23:23:38+00:00  Twitter for iPhone   \n",
       "287  2017-02-02 17:00:17+00:00  Twitter for iPhone   \n",
       "592  2016-08-31 21:47:27+00:00  Twitter for iPhone   \n",
       "688  2016-07-15 17:56:40+00:00  Twitter for iPhone   \n",
       "1060 2016-02-27 00:55:11+00:00  Twitter for iPhone   \n",
       "1132 2016-02-10 03:05:46+00:00  Twitter for iPhone   \n",
       "1344 2015-12-29 17:36:07+00:00  Twitter for iPhone   \n",
       "1691 2015-12-01 01:42:28+00:00  Twitter for iPhone   \n",
       "\n",
       "                                                   text  \\\n",
       "195   This is Charlie. He wants to know if you have ...   \n",
       "200   This is Charlie. He's wishing you a very fun a...   \n",
       "244   Meet Charlie. She asked u to change the channe...   \n",
       "252   This is Charlie. He fell asleep on a heating v...   \n",
       "287   This is Charlie. He wins every game of chess h...   \n",
       "592   This is Charlie. He works for @TODAYshow. Supe...   \n",
       "688   This is Charlie. He pouts until he gets to go ...   \n",
       "1060  This is Charlie. He's a West Side Niddlewog. M...   \n",
       "1132  Meet Charlie. He likes to kiss all the big mil...   \n",
       "1344  Say hello to Charlie. He's scholarly af. Quite...   \n",
       "1691  This is Charlie. He was just informed that dog...   \n",
       "\n",
       "                                          expanded_urls  rating_numerator  \\\n",
       "195   https://twitter.com/dog_rates/status/844580511...              11.0   \n",
       "200   https://twitter.com/dog_rates/status/842846295...              13.0   \n",
       "244   https://twitter.com/dog_rates/status/833826103...              13.0   \n",
       "252   https://twitter.com/dog_rates/status/832369877...              11.0   \n",
       "287   https://twitter.com/dog_rates/status/827199976...              13.0   \n",
       "592   https://twitter.com/dog_rates/status/771102124...              12.0   \n",
       "688   https://twitter.com/dog_rates/status/754011816...              12.0   \n",
       "1060  https://twitter.com/dog_rates/status/703382836...              12.0   \n",
       "1132  https://twitter.com/dog_rates/status/697255105...              10.0   \n",
       "1344  https://twitter.com/dog_rates/status/681891461...              10.0   \n",
       "1691  https://twitter.com/dog_rates/status/671504605...              11.0   \n",
       "\n",
       "      rating_denominator     name  ... p1_dog                              p2  \\\n",
       "195                 10.0  Charlie  ...  False                      dishwasher   \n",
       "200                 10.0  Charlie  ...   True                golden_retriever   \n",
       "244                 10.0  Charlie  ...   True                          kelpie   \n",
       "252                 10.0  Charlie  ...   True     German_short-haired_pointer   \n",
       "287                 10.0  Charlie  ...   True  American_Staffordshire_terrier   \n",
       "592                 10.0  Charlie  ...   True                             pug   \n",
       "688                 10.0  Charlie  ...   True                     Boston_bull   \n",
       "1060                10.0  Charlie  ...   True                 standard_poodle   \n",
       "1132                10.0  Charlie  ...   True                        malinois   \n",
       "1344                10.0  Charlie  ...   True                         doormat   \n",
       "1691                10.0  Charlie  ...   True                      bath_towel   \n",
       "\n",
       "       p2_conf p2_dog                         p3   p3_conf p3_dog  \\\n",
       "195   0.032489  False                    printer  0.016456  False   \n",
       "200   0.154946   True                  Chihuahua  0.110249   True   \n",
       "244   0.149706   True                   Pembroke  0.096480   True   \n",
       "252   0.105208   True  Staffordshire_bullterrier  0.054338   True   \n",
       "287   0.026658   True                      boxer  0.019866   True   \n",
       "592   0.179918   True  Staffordshire_bullterrier  0.034437   True   \n",
       "688   0.273176   True                      boxer  0.056772   True   \n",
       "1060  0.014392   True            Tibetan_mastiff  0.012022   True   \n",
       "1132  0.165888   True                   Doberman  0.119890   True   \n",
       "1344  0.134316  False                toy_terrier  0.084482   True   \n",
       "1691  0.177669  False                Maltese_dog  0.071712   True   \n",
       "\n",
       "      retweet_count  favorite_count               breed  \n",
       "195            3533           17871                none  \n",
       "200            4023           16440  Labrador_retriever  \n",
       "244            3904           16728           Chihuahua  \n",
       "252            3652           18792              kelpie  \n",
       "287            2579           11659          Great_Dane  \n",
       "592            1663            6898  Labrador_retriever  \n",
       "688            4079            9726      French_bulldog  \n",
       "1060           1285            3837    golden_retriever  \n",
       "1132           1315            3316          Great_Dane  \n",
       "1344            951            2706           Chihuahua  \n",
       "1691           3866            7495          toy_poodle  \n",
       "\n",
       "[11 rows x 25 columns]"
      ]
     },
     "execution_count": 103,
     "metadata": {},
     "output_type": "execute_result"
    }
   ],
   "source": [
    "df_analysis[df_analysis.name == 'Charlie']"
   ]
  },
  {
   "cell_type": "markdown",
   "id": "bf642870",
   "metadata": {},
   "source": [
    "### Dog's most stage"
   ]
  },
  {
   "cell_type": "code",
   "execution_count": 104,
   "id": "3eb48502",
   "metadata": {},
   "outputs": [
    {
     "data": {
      "text/plain": [
       "pupper            203\n",
       "doggo              63\n",
       "puppo              22\n",
       "doggo, pupper       9\n",
       "floofer             7\n",
       "doggo, puppo        1\n",
       "doggo, floofer      1\n",
       "Name: dog_stage, dtype: int64"
      ]
     },
     "execution_count": 104,
     "metadata": {},
     "output_type": "execute_result"
    }
   ],
   "source": [
    "df_analysis.dog_stage.value_counts()"
   ]
  },
  {
   "cell_type": "code",
   "execution_count": 105,
   "id": "883dd919",
   "metadata": {},
   "outputs": [
    {
     "data": {
      "image/png": "[encoded data removed]",
      "text/plain": [
       "<Figure size 504x360 with 1 Axes>"
      ]
     },
     "metadata": {},
     "output_type": "display_data"
    }
   ],
   "source": [
    "plt.subplots(figsize = (7,5))\n",
    "df_analysis.dog_stage.value_counts().plot(kind = 'barh',color = 'blue')\n",
    "plt.xlabel('Stage of dog',fontdict={'size':12,'weight':'bold'})\n",
    "plt.ylabel('Number of occurence',fontdict={'size':12,'weight':'bold'})\n",
    "plt.title('most frequent dog_stages',fontdict={'size':13,'weight':'bold'})\n",
    "plt.savefig('dog_stages')"
   ]
  },
  {
   "cell_type": "markdown",
   "id": "4da0ead6",
   "metadata": {},
   "source": [
    "### Dog's most ratings"
   ]
  },
  {
   "cell_type": "code",
   "execution_count": 106,
   "id": "d22b1e1b",
   "metadata": {},
   "outputs": [
    {
     "data": {
      "text/plain": [
       "12.0      450\n",
       "10.0      419\n",
       "11.0      396\n",
       "13.0      261\n",
       "9.0       151\n",
       "8.0        95\n",
       "7.0        52\n",
       "14.0       35\n",
       "5.0        32\n",
       "6.0        32\n",
       "3.0        19\n",
       "4.0        16\n",
       "2.0         9\n",
       "1.0         5\n",
       "0.0         2\n",
       "27.0        1\n",
       "60.0        1\n",
       "88.0        1\n",
       "144.0       1\n",
       "26.0        1\n",
       "121.0       1\n",
       "143.0       1\n",
       "44.0        1\n",
       "80.0        1\n",
       "75.0        1\n",
       "99.0        1\n",
       "50.0        1\n",
       "204.0       1\n",
       "1776.0      1\n",
       "165.0       1\n",
       "84.0        1\n",
       "24.0        1\n",
       "420.0       1\n",
       "Name: rating_numerator, dtype: int64"
      ]
     },
     "execution_count": 106,
     "metadata": {},
     "output_type": "execute_result"
    }
   ],
   "source": [
    "df_analysis.rating_numerator.value_counts()"
   ]
  },
  {
   "cell_type": "code",
   "execution_count": 107,
   "id": "e9884786",
   "metadata": {
    "scrolled": false
   },
   "outputs": [
    {
     "data": {
      "image/png": "[encoded data removed]",
      "text/plain": [
       "<Figure size 720x504 with 1 Axes>"
      ]
     },
     "metadata": {},
     "output_type": "display_data"
    }
   ],
   "source": [
    "plt.subplots(figsize = (10,7))\n",
    "df_analysis.rating_numerator.value_counts().sort_index().plot(kind = 'bar',color= 'blue')\n",
    "plt.xlabel('Number of rating',fontdict={'size':15,'weight':'bold'})\n",
    "plt.ylabel('Number of dog',fontdict={'size':15,'weight':'bold'})\n",
    "plt.title('most frequent dog ratings by numerator',fontdict={'size':13,'weight':'bold'})\n",
    "plt.savefig('most ratings')"
   ]
  },
  {
   "cell_type": "markdown",
   "id": "804b1ed5",
   "metadata": {},
   "source": [
    "### Dog's with most breed"
   ]
  },
  {
   "cell_type": "code",
   "execution_count": 108,
   "id": "2240dc54",
   "metadata": {},
   "outputs": [
    {
     "data": {
      "text/plain": [
       "golden_retriever      139\n",
       "Labrador_retriever     95\n",
       "Pembroke               88\n",
       "Chihuahua              79\n",
       "pug                    54\n",
       "                     ... \n",
       "jersey                  0\n",
       "coffee_mug              0\n",
       "fiddler_crab            0\n",
       "pencil_box              0\n",
       "envelope                0\n",
       "Name: p1, Length: 378, dtype: int64"
      ]
     },
     "execution_count": 108,
     "metadata": {},
     "output_type": "execute_result"
    }
   ],
   "source": [
    "df_analysis.p1.value_counts()"
   ]
  },
  {
   "cell_type": "code",
   "execution_count": 109,
   "id": "206ed708",
   "metadata": {},
   "outputs": [
    {
     "data": {
      "image/png": "[encoded data removed]",
      "text/plain": [
       "<Figure size 1080x576 with 1 Axes>"
      ]
     },
     "metadata": {},
     "output_type": "display_data"
    }
   ],
   "source": [
    "plt.subplots(figsize = (15,8))\n",
    "df_analysis[df_analysis['breed'] != 'none'].breed.value_counts().sort_values(ascending=False)[:50].plot(kind = 'barh',color = 'blue')\n",
    "plt.xlabel('Name of Dog',fontdict={'size':15,'weight':'bold'})\n",
    "plt.ylabel('Number of occurence',fontdict={'size':15,'weight':'bold'});\n",
    "plt.title('most frequent dog breeds',fontdict={'size':13,'weight':'bold'})\n",
    "plt.savefig('dog_breeds chart')"
   ]
  },
  {
   "cell_type": "markdown",
   "id": "e417c1cf",
   "metadata": {},
   "source": [
    "### The relationship between retweet count and favourite count"
   ]
  },
  {
   "cell_type": "code",
   "execution_count": 110,
   "id": "08fb66f3",
   "metadata": {},
   "outputs": [
    {
     "data": {
      "image/png": "[encoded data removed]",
      "text/plain": [
       "<Figure size 720x504 with 1 Axes>"
      ]
     },
     "metadata": {},
     "output_type": "display_data"
    }
   ],
   "source": [
    "plt.subplots(figsize = (10,7))\n",
    "sns.scatterplot(df_analysis['retweet_count'],df_analysis['favorite_count'],color = 'blue')\n",
    "plt.xlabel('Retweet Count',fontdict=dict(weight = 'bold',size = 14))\n",
    "plt.ylabel('favourite Count',fontdict=dict(weight = 'bold',size = 14))\n",
    "plt.title('scatter chart of favourite_count against retweet_count',fontdict={'size':13,'weight':'bold'})\n",
    "plt.savefig('retweet vs favourite')"
   ]
  },
  {
   "cell_type": "markdown",
   "id": "3ed42c97",
   "metadata": {},
   "source": [
    "### The relationship between different we rate dogs attributes"
   ]
  },
  {
   "cell_type": "code",
   "execution_count": 111,
   "id": "dcb51218",
   "metadata": {},
   "outputs": [
    {
     "data": {
      "image/png": "[encoded data removed]",
      "text/plain": [
       "<Figure size 576x504 with 2 Axes>"
      ]
     },
     "metadata": {},
     "output_type": "display_data"
    }
   ],
   "source": [
    "df_corr =  np.array(['retweet_count','favorite_count','rating_numerator','rating_denominator'])\n",
    "df_corr = df_analysis[df_corr].corr()\n",
    "plt.figure(figsize = (8,7))\n",
    "sns.heatmap(df_corr,annot=True);\n",
    "plt.savefig('heat map of attr')"
   ]
  },
  {
   "cell_type": "code",
   "execution_count": null,
   "id": "3a35f346",
   "metadata": {},
   "outputs": [],
   "source": []
  },
  {
   "cell_type": "code",
   "execution_count": null,
   "id": "7453fcfc",
   "metadata": {},
   "outputs": [],
   "source": []
  }
 ],
 "metadata": {
  "kernelspec": {
   "display_name": "Python 3 (ipykernel)",
   "language": "python",
   "name": "python3"
  },
  "language_info": {
   "codemirror_mode": {
    "name": "ipython",
    "version": 3
   },
   "file_extension": ".py",
   "mimetype": "text/x-python",
   "name": "python",
   "nbconvert_exporter": "python",
   "pygments_lexer": "ipython3",
   "version": "3.9.7"
  }
 },
 "nbformat": 4,
 "nbformat_minor": 5
}
